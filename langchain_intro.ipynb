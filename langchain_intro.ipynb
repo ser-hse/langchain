{
 "cells": [
  {
   "cell_type": "code",
   "execution_count": 1,
   "metadata": {},
   "outputs": [
    {
     "data": {
      "text/plain": [
       "True"
      ]
     },
     "execution_count": 1,
     "metadata": {},
     "output_type": "execute_result"
    }
   ],
   "source": [
    "from IPython.display import display, Markdown, clear_output\n",
    "from langchain_core.prompts import ChatPromptTemplate\n",
    "from langchain_ollama.llms import OllamaLLM\n",
    "from langchain_core.output_parsers import StrOutputParser\n",
    "from langchain.output_parsers import PydanticOutputParser\n",
    "from typing import List\n",
    "from langchain_core.prompts import PromptTemplate\n",
    "from pydantic import BaseModel, Field\n",
    "from langchain_community.document_loaders import PyPDFLoader, Docx2txtLoader\n",
    "from langchain_text_splitters import RecursiveCharacterTextSplitter\n",
    "from typing import List\n",
    "from langchain_core.documents import Document\n",
    "from langchain.output_parsers import OutputFixingParser\n",
    "from operator import itemgetter\n",
    "from langchain.prompts import PromptTemplate\n",
    "from langchain.chains import LLMChain\n",
    "from langchain.chat_models import ChatOpenAI  # example LLM\n",
    "from langchain.output_parsers import StructuredOutputParser\n",
    "from langchain_core.output_parsers import StrOutputParser\n",
    "from langchain_core.prompts import ChatPromptTemplate\n",
    "from langchain_core.runnables import Runnable, RunnablePassthrough, chain, RunnableConfig\n",
    "import pandas as pd\n",
    "import re\n",
    "import os\n",
    "from langchain_openai import OpenAI\n",
    "from dotenv import load_dotenv\n",
    "load_dotenv()\n",
    "\n",
    "\n"
   ]
  },
  {
   "cell_type": "code",
   "execution_count": 58,
   "metadata": {},
   "outputs": [],
   "source": [
    "\n",
    "from langchain_openai import ChatOpenAI\n",
    "\n",
    "llm = ChatOpenAI(\n",
    "    model=\"gpt-4o\",\n",
    "    temperature=1.2,\n",
    "    streaming=True\n",
    ")\n"
   ]
  },
  {
   "cell_type": "code",
   "execution_count": 3,
   "metadata": {},
   "outputs": [
    {
     "name": "stdout",
     "output_type": "stream",
     "text": [
      "Hello! How can I assist you today?\n"
     ]
    }
   ],
   "source": [
    "response = llm.invoke(\"Hello, world!\")\n",
    "print(response.content)\n"
   ]
  },
  {
   "cell_type": "code",
   "execution_count": 4,
   "metadata": {},
   "outputs": [],
   "source": [
    "#llm = OpenAI(name=\"o3\")"
   ]
  },
  {
   "cell_type": "code",
   "execution_count": 5,
   "metadata": {},
   "outputs": [],
   "source": [
    "#llm.invoke(\"Hello, world!\")"
   ]
  },
  {
   "cell_type": "code",
   "execution_count": 6,
   "metadata": {},
   "outputs": [
    {
     "data": {
      "text/plain": [
       "'\"Danke\" is German for \"thank you.\" In Russian, you would say \"спасибо\" (pronounced \"spasibo\").'"
      ]
     },
     "execution_count": 6,
     "metadata": {},
     "output_type": "execute_result"
    }
   ],
   "source": [
    "prompt = PromptTemplate.from_template(\"\"\"\n",
    "    How to say {input} in {target_language} language\n",
    "\"\"\")           \n",
    "\n",
    "chain = prompt | llm | StrOutputParser()\n",
    "\n",
    "\n",
    "chain.invoke({\"input\": \"Danke\", \"target_language\": \"Russian\"})"
   ]
  },
  {
   "cell_type": "code",
   "execution_count": 7,
   "metadata": {},
   "outputs": [
    {
     "name": "stdout",
     "output_type": "stream",
     "text": [
      "['Video', '.DS_Store', '1_1_Artikel.docx']\n"
     ]
    }
   ],
   "source": [
    "folder_path = \"documents\"\n",
    "files = os.listdir(folder_path)\n",
    "print(files)"
   ]
  },
  {
   "cell_type": "code",
   "execution_count": 8,
   "metadata": {},
   "outputs": [
    {
     "name": "stdout",
     "output_type": "stream",
     "text": [
      "documents/Video\n",
      "documents/.DS_Store\n",
      "documents/1_1_Artikel.docx\n"
     ]
    }
   ],
   "source": [
    "for filename in os.listdir(folder_path):\n",
    "    print(os.path.join(folder_path, filename))"
   ]
  },
  {
   "cell_type": "code",
   "execution_count": 9,
   "metadata": {},
   "outputs": [
    {
     "name": "stdout",
     "output_type": "stream",
     "text": [
      "Unsupported file type: Video\n",
      "Unsupported file type: .DS_Store\n"
     ]
    },
    {
     "data": {
      "text/plain": [
       "1"
      ]
     },
     "execution_count": 9,
     "metadata": {},
     "output_type": "execute_result"
    }
   ],
   "source": [
    "from typing import List\n",
    "import os\n",
    "from langchain_community.document_loaders import PyPDFLoader, Docx2txtLoader\n",
    "from langchain_core.documents import Document\n",
    "\n",
    "def load_documents(folder_path: str) -> List[Document]:\n",
    "    documents = []\n",
    "    for filename in os.listdir(folder_path):\n",
    "        file_path = os.path.join(folder_path, filename)\n",
    "        if filename.endswith('.pdf'):\n",
    "            loader = PyPDFLoader(file_path)\n",
    "        elif filename.endswith('.docx'):\n",
    "            loader = Docx2txtLoader(file_path)\n",
    "        else:\n",
    "            print(f\"Unsupported file type: {filename}\")\n",
    "            continue\n",
    "        documents.extend(loader.load())\n",
    "    return documents\n",
    "\n",
    "folder_path = \"documents\"\n",
    "documents = load_documents(folder_path)\n",
    "\n",
    "len(documents)"
   ]
  },
  {
   "cell_type": "code",
   "execution_count": 10,
   "metadata": {},
   "outputs": [
    {
     "data": {
      "text/plain": [
       "[Document(metadata={'source': 'documents/1_1_Artikel.docx'}, page_content='DER ARTIKEL\\n\\nАртикль — это служебное слово, которое ставится перед существительным и показывает его род, число и падеж. В немецком языке артикли употребляются практически всегда. Различают определённый артикль, неопределённый артикль и отрицательный артикль.\\n\\nОпределённый артикль: der (мужской род), die (женский род), das (средний род), die (множественное число). Используется, когда речь идёт о чём-то конкретном, известном, уже упомянутом, уникальном или понятном из контекста. Примеры: der Mann, die Frau, das Kind, die Bücher.\\n\\nНеопределённый артикль: ein (мужской и средний род), eine (женский род). Используется при первом упоминании, если предмет неизвестен собеседнику. Не имеет формы во множественном числе. Примеры: ein Mann, eine Frau, ein Kind. Множественное: einfach Bücher (без артикля), einige Bücher, viele Bücher и т. д.\\n\\nОтрицательный артикль: kein, keine, kein. Склоняется как ein. Примеры: kein Hund, keine Zeit, kein Fleisch.\\n\\nСклонение определённого артикля по падежам:\\n\\nNominativ: der, die, das, die\\nAkkusativ: den, die, das, die\\nDativ: dem, der, dem, den (существительное получает окончание -n)\\nGenitiv: des (существительное получает -s или -es), der, des, der\\n\\nСклонение неопределённого артикля по падежам:\\n\\nNominativ: ein, eine, ein\\nAkkusativ: einen, eine, ein\\nDativ: einem, einer, einem\\nGenitiv: eines (существительное получает -s или -es), einer, eines\\n\\nС артиклем прилагательные получают соответствующие окончания в зависимости от рода, числа, падежа и типа артикля. Примеры: der große Mann, eine schöne Frau, das neue Buch, mit einem alten Freund.\\n\\nАртикль может не употребляться:\\n\\nС профессиями после глагола sein: Sie ist Lehrerin.\\n\\nС неисчислимыми существительными в общем смысле: Ich trinke Wasser.\\n\\nС абстрактными понятиями в общем смысле: Musik ist wichtig.\\n\\nВ устойчивых выражениях: zu Hause, mit Kind und Kegel, von Beruf.\\n\\nКогда абстрактное или неисчислимое существительное конкретизируется, артикль появляется. Примеры: Ich liebe die Musik von Mozart. Die Freiheit, die wir haben, ist kostbar.\\n\\nС географическими названиями:\\n\\nБез артикля: Berlin, Frankreich, Russland, Mallorca.\\nС артиклем: die Schweiz, die Türkei, der Iran, die Niederlande, der Rhein, die Donau, die Alpen.\\nПримеры: Ich fahre in die Schweiz. Ich bin in der Schweiz. Ich liebe den Rhein.\\n\\nС существительными во множественном числе используется только определённый артикль — die. Неопределённого артикля нет, вместо него слова einige, viele, keine. Примеры: die Kinder, einige Leute, keine Bücher.\\n\\nС другими определителями (mein, dein, dieser, jener и др.) артикль не употребляется. Примеры: mein Vater, dieser Tag, ihr Haus. Прилагательное после таких слов склоняется по сильному типу: mein guter Freund, ihre kleine Tochter, dieser schöne Tag.\\n\\nС именами собственными артикль не употребляется: Ich heiße Anna. Ich fahre nach Berlin. Но: Die schöne Maria kam zu spät. В южной Германии возможно: der Peter, die Anna. Газеты, фильмы, корабли, произведения искусства часто употребляются с артиклем: die Titanic, das Kapital, die Zeit.\\n\\nПосле предлогов артикль обязателен, если существительное требует его. Примеры: in die Stadt (Akk), in der Stadt (Dat), mit dem Kind, für den Lehrer. Часто происходят сращения: in dem → im, zu dem → zum, an dem → am.\\n\\nВо множественном числе в дательном падеже после предлогов существительное получает окончание -n: Ich spreche mit den Kindern.\\n\\nУстойчивые выражения требуют артикля: ins Bett gehen, im Krankenhaus liegen, am Wochenende, aus dem Haus gehen.\\n\\nПословицы с артиклем: Der Apfel fällt nicht weit vom Stamm. Die Zeit heilt alle Wunden. Das Leben ist kein Ponyhof.\\n\\nСравнение с русским языком:\\n\\nIch sehe den Mann — Я вижу мужчину.\\nDie Freiheit ist wichtig — Свобода важна.\\nIch habe kein Geld — У меня нет денег.\\nВ русском языке артиклей нет, поэтому немецкие артикли часто вызывают трудности у русскоязычных учащихся. Важно запоминать, что в немецком артикль обязателен почти всегда, даже если в русском его аналог отсутствует.\\n\\nАртикль — это служебное слово, которое ставится перед существительным и указывает на его грамматические характеристики: род, число и падеж. Артикли обязательны в большинстве немецких предложений и выполняют ключевую функцию в построении смысла. Они позволяют понять, идёт ли речь о чём-то конкретном или неопределённом, известном или неизвестном.\\n\\nВ немецком языке существует три категории артиклей: определённые, неопределённые и отрицательные.\\n\\nОпределённые артикли: der (мужской род), die (женский род), das (средний род), die (множественное число). Они используются, когда говорящий и слушающий знают, о чём идёт речь, либо когда предмет уже был упомянут. Например: der Mann, die Frau, das Kind, die Bücher.\\n\\nНеопределённые артикли: ein (мужской и средний род), eine (женский род). Они употребляются при первом упоминании объекта или когда объект неизвестен собеседнику. Во множественном числе неопределённого артикля нет, вместо него используются слова wie „einige“, „viele“, „manche“.\\n\\nОтрицательный артикль „kein“ (keine, kein) представляет собой отрицательную форму от „ein“ и склоняется аналогично. Он указывает на полное отсутствие предмета: kein Auto, keine Zeit.\\n\\nСклонение артиклей зависит от рода, числа и падежа. Все артикли меняют форму в зависимости от того, является ли существительное подлежащим, дополнением, объектом предлога или частью притяжательной конструкции. Склонение охватывает четыре падежа: именительный (Nominativ), винительный (Akkusativ), дательный (Dativ) и родительный (Genitiv).\\n\\nВ дательном падеже во множественном числе существительное получает окончание -n, если это грамматически возможно. Пример: mit den Kindern.\\n\\nПрилагательные, стоящие после артиклей, получают соответствующие окончания. Тип окончания зависит от того, стоит ли перед существительным артикль и какой он. После определённого артикля используется слабое склонение прилагательных (например: der große Mann). После неопределённого артикля или притяжательного местоимения — смешанное склонение (ein großer Mann, mein lieber Freund).\\n\\nНекоторые существительные употребляются без артикля. Это возможно: — при указании профессии после глагола sein: Ich bin Lehrer. — с абстрактными понятиями или неисчислимыми существительными, если речь идёт о них в общем: Wasser ist gesund. — в устойчивых выражениях: zu Hause, zu Fuß, mit Angst.\\n\\nОднако если абстрактное существительное конкретизируется, оно получает артикль: Ich liebe die Musik von Bach.\\n\\nНазвания стран, городов и географических объектов употребляются с артиклем, если это исторически закреплено. Например: die Schweiz, der Iran, die Türkei. В то время как большинство стран и городов употребляются без артикля: nach Deutschland, aus Berlin.\\n\\nПредлоги в немецком языке требуют согласования с падежом и артиклем. Некоторые предлоги сливаются с артиклем в устойчивые формы: in dem → im, zu dem → zum, an dem → am.\\n\\nОбобщения могут употребляться как с артиклем, так и без, в зависимости от желаемого оттенка значения: Katzen sind unabhängig (все кошки как класс) vs. Die Katzen in diesem Raum sind unabhängig (конкретные кошки).\\n\\nОсобенности употребления артикля следует учитывать в контексте: язык (Deutsch), профессия (Lehrer), прилагательные как существительные (das Neue), устойчивые выражения (zu Mittag, zu Besuch), сочетания с другими определителями (mein Vater, dieser Mann).\\n\\nТаким образом, правильное употребление артиклей требует учёта множества факторов: грамматической формы, лексического значения, контекста и стиля. Это делает их важнейшим элементом грамматики немецкого языка.\\n\\n\\n\\n=== СКЛОНЕНИЕ ОПРЕДЕЛЁННЫХ АРТИКЛЕЙ ===\\n\\nПадеж\\n\\nМужской\\n\\nЖенский\\n\\nСредний\\n\\nМножественное\\n\\nNominativ\\n\\nder\\n\\ndie\\n\\ndas\\n\\ndie\\n\\nAkkusativ\\n\\nden\\n\\ndie\\n\\ndas\\n\\ndie\\n\\nDativ\\n\\ndem\\n\\nder\\n\\ndem\\n\\nden + -n\\n\\nGenitiv\\n\\ndes + -s/-es\\n\\nder\\n\\ndes + -s/-es\\n\\nder\\n\\n\\n\\n=== СКЛОНЕНИЕ НЕОПРЕДЕЛЁННЫХ АРТИКЛЕЙ ===\\n\\nПадеж\\n\\nМужской\\n\\nЖенский\\n\\nСредний\\n\\nNominativ\\n\\nein\\n\\neine\\n\\nein\\n\\nAkkusativ\\n\\neinen\\n\\neine\\n\\nein\\n\\nDativ\\n\\neinem\\n\\neiner\\n\\neinem\\n\\nGenitiv\\n\\neines + -s/-es\\n\\neiner\\n\\neines + -s/-es\\n\\n\\n\\n=== СТРАНЫ С АРТИКЛЕМ ===\\n\\ndie Schweiz\\n\\ndie Türkei\\n\\ndie Ukraine\\n\\ndie Slowakei\\n\\ndie Niederlande (множественное число)\\n\\nder Irak\\n\\nder Iran\\n\\nder Sudan\\n\\nder Kongo\\n\\ndie USA (множественное число)\\n\\nОстальные страны, как правило, употребляются без артикля: Deutschland, Frankreich, Spanien, Italien, China, Russland и т.д.\\n\\n=== УСТОЙЧИВЫЕ ВЫРАЖЕНИЯ БЕЗ АРТИКЛЯ ===\\n\\nzu Hause\\n\\nzu Mittag essen\\n\\nzu Besuch sein\\n\\nAngst haben\\n\\nHunger haben\\n\\nDurst haben\\n\\nLehrer sein / Arzt werden\\n\\nDeutsch sprechen / Russisch lernen\\n\\n=== ХАРАКТЕРНЫЕ ОШИБКИ РУССКОЯЗЫЧНЫХ ===\\n\\n🚫 Ich habe nicht Geld → ✅ Ich habe kein Geld\\n\\n🚫 Sie ist die Lehrerin (в первом упоминании) → ✅ Sie ist Lehrerin\\n\\n🚫 Ich esse der Apfel → ✅ Ich esse den Apfel\\n\\n🚫 Ich fahre nach die Schweiz → ✅ Ich fahre in die Schweiz\\n\\n🚫 Das ist kein das Problem → ✅ Das ist kein Problem или das Problem, но не оба одновременно\\n\\n🚫 Ich habe ein Wasser → ✅ Ich habe ein Glas Wasser / ein bisschen Wasser\\n\\n\\t\\t\\n\\n\\n\\n\\n\\n=== ВОПРОСЫ И ОТВЕТЫ ===\\n\\n\\n\\nВопрос: Зачем вообще нужны артикли в немецком? Ответ: Артикли помогают определить род, число и падеж существительного. Они также указывают, известен ли объект собеседнику или нет. Без артиклей немецкие предложения были бы неоднозначными.\\n\\nВопрос: Как определить, какой артикль ставить? Ответ: Нужно знать род слова (der, die, das), его число (единственное или множественное) и падеж (Nominativ, Akkusativ, Dativ, Genitiv). Каждый артикль имеет свою форму для каждой комбинации.\\n\\nВопрос: Почему в немецком языке так много форм артиклей? Ответ: Немецкий язык — флективный, и артикли показывают грамматические отношения между словами. Изменения артикля позволяют понять, какую функцию выполняет существительное в предложении.\\n\\nВопрос: В чём разница между der и ein? Ответ: Der — определённый артикль, указывает на конкретный, известный объект. Ein — неопределённый, используется при первом упоминании или когда объект неизвестен.\\n\\nВопрос: Почему в одном случае das Auto, а в другом ein Auto? Ответ: Das Auto — конкретная машина (например, та, о которой мы уже говорили). Ein Auto — любая машина, не конкретная.\\n\\nВопрос: Почему kein и ein похожи? Ответ: Kein — это отрицательная форма артикля ein. Склоняются одинаково, но kein означает отсутствие чего-либо: kein Auto — никакой машины.\\n\\nВопрос: В чём разница между nicht и kein? Ответ: Nicht используется для отрицания глаголов, прилагательных и обстоятельств. Kein используется для существительных с артиклем ein: Ich habe kein Buch. Ich lese nicht.\\n\\nВопрос: Как склоняется kein в разных падежах? Ответ: Точно так же, как ein. Например: kein Mann, keinen Mann, keinem Mann, keines Mannes.\\n\\nВопрос: Почему нельзя сказать „mein der Vater“? Ответ: Mein уже выполняет функцию определителя, артикль der становится лишним. Поэтому: mein Vater, nicht der mein Vater.\\n\\nВопрос: Почему говорят „Ich bin Lehrer“, но „der Lehrer ist nett“? Ответ: После глагола sein профессия указывается без артикля. Но если она описывается, конкретизируется или повторяется — артикль используется.\\n\\nВопрос: Почему говорят „in die Schweiz“, но „nach Deutschland“? Ответ: У некоторых стран есть артикль (die Schweiz, der Iran), у большинства — нет. После nach артикль не нужен, но если страна с артиклем, используется in + Akkusativ.\\n\\nВопрос: Почему говорят „ich habe kein Geld“, а не „nicht Geld“? Ответ: Потому что Geld — существительное с неопределённым значением. Für существительные без артикля используется kein.\\n\\nВопрос: Почему „Wasser ist gesund“, но „das Wasser in dieser Flasche“? Ответ: Когда говорим о воде вообще — без артикля. Когда конкретизируем — появляется определённый артикль.\\n\\nВопрос: Почему говорят „die schönen Blumen“, но „meine schönen Blumen“? Ответ: В первом случае работает слабое склонение прилагательного после артикля. Во втором — смешанное склонение после притяжательного местоимения. Артикль влияет на окончание.\\n\\nВопрос: Почему говорят „im Park“, а не „in dem Park“? Ответ: Форма „im“ — это сокращение от „in dem“. В разговорной и письменной речи чаще используется сокращённая форма.\\n\\nВопрос: Почему в Dativ во множественном числе добавляется -n? Ответ: Это грамматическое правило. В Dativ Plural все существительные (если возможно) получают окончание -n: mit den Kindern.\\n\\nВопрос: Как сказать „какие-то книги“ по-немецки? Ответ: Можно использовать „einige Bücher“, „manche Bücher“ или просто „Bücher“, если речь об абстрактном множестве.\\n\\nВопрос: Можно ли сказать „Ich kaufe das Brot, die Milch und den Käse“? Ответ: Да. Если ты говоришь о конкретных продуктах, то используешь определённые артикли. Если в общем — Brot, Milch, Käse.\\n\\nВопрос: Почему „Liebe“ иногда с артиклем, иногда без? Ответ: Без артикля — если абстрактно (Liebe ist wichtig). С артиклем — если конкретизируем (die Liebe meines Lebens).\\n\\nВопрос: Почему нельзя переводить „у меня нет“ как „ich habe nicht“? Ответ: Потому что с существительными используется kein: ich habe kein Geld. Nicht — для глаголов и прилагательных.\\n\\nВопрос: Почему нельзя сказать просто „Auto ist rot“? Ответ: В немецком почти всегда нужно ставить артикль: Das Auto ist rot. Без артикля такое предложение считается грамматически неполным.\\n\\nВопрос: Почему говорят „mein guter Freund“, но „der gute Freund“? Ответ: Потому что после определённого артикля используется слабое склонение прилагательных (der gute Freund), а после притяжательного местоимения — смешанное склонение (mein guter Freund).\\n\\nВопрос: Почему говорят „ich spreche Deutsch“, но „das Deutsche ist schwer“? Ответ: Без артикля язык употребляется, когда речь идёт о способности. С артиклем — когда язык становится подлежащим и к нему добавляется описание как сущности.\\n\\nВопрос: Почему говорят „zu Hause“ без артикля? Ответ: Это устойчивое выражение, в котором артикль исторически опущен. В других случаях „Haus“ требует артикля: Ich gehe aus dem Haus.\\n\\nВопрос: Почему нельзя сказать „die mein Freundin“? Ответ: Потому что притяжательное местоимение „mein“ уже выполняет функцию артикля. Правильно: „meine Freundin“.\\n\\nВопрос: Почему говорят „ins Bett“, но „im Bett bleiben“? Ответ: Ins Bett — движение в направлении (Akkusativ). Im Bett — положение на месте (Dativ). Предлог „in“ требует Akk или Dat в зависимости от контекста.\\n\\nВопрос: Почему говорят „die Zeit“ про газету, но просто „Zeit“ во фразе „Ich habe keine Zeit“? Ответ: Потому что „die Zeit“ — это имя собственное (название газеты), а „Zeit“ — абстрактное понятие. Артикль используется только для конкретизации.\\n\\nВопрос: Почему говорят „der Rhein“, но „nach Frankfurt“? Ответ: Реки в немецком имеют артикли (der Rhein, die Donau), а большинство городов — нет. С городами чаще используется „nach“ без артикля.\\n\\nВопрос: Почему говорят „die Deutschen“, а не „Deutsch“ во множественном числе? Ответ: Потому что „Deutsch“ — язык, а „die Deutschen“ — люди. Язык — средний род без множественного числа, а национальности получают форму с артиклем.\\n\\nВопрос: Почему в новостях часто пропускают артикли? Ответ: Это стилистическая особенность официального или телеграфного стиля, где опускаются второстепенные слова для краткости. В разговорной и стандартной речи артикли обязательны.\\n\\n\\n\\nВопрос: Почему говорят „viele Leute“ без артикля? Ответ: Слово „viele“ уже является определителем, поэтому артикль не нужен. Оно показывает количество и заменяет артикль.\\n\\nВопрос: Когда можно сказать „die vielen Leute“? Ответ: Если мы хотим подчеркнуть конкретную известную группу людей, используется определённый артикль: „die vielen Leute, die gestern kamen“.\\n\\nВопрос: Почему „Kinder brauchen Liebe“, а не „Die Kinder brauchen Liebe“? Ответ: Обобщение без артикля используется, когда речь идёт о категории в целом. С артиклем — когда речь идёт о конкретных детях: „Die Kinder in dieser Klasse brauchen Liebe“.\\n\\nВопрос: Почему в одном случае „Kaffee trinken“, а в другом „der Kaffee ist heiß“? Ответ: Без артикля — если речь идёт о действии в общем. С артиклем — при конкретизации или когда существительное является подлежащим.\\n\\nВопрос: Почему „Musik ist wichtig“, но „die Musik von Bach ist schön“? Ответ: Абстрактное понятие без артикля — когда говорим в общем. Определённый артикль — при уточнении, например, о чьей музыке идёт речь.\\n\\nВопрос: Когда используется артикль с названиями языков? Ответ: Без артикля — при указании, на каком языке говорят: „Ich spreche Spanisch“. С артиклем — если язык используется как подлежащее или описывается: „Das Spanische ist melodisch“.\\n\\nВопрос: Почему нельзя сказать „sie spricht das Deutsch“? Ответ: Потому что „Deutsch“ в этом контексте — имя языка, и оно употребляется без артикля. Артикль добавляется только при субстантивации: „das Deutsche“.\\n\\nВопрос: Почему нельзя сказать „Ich habe kein das Auto“? Ответ: Потому что в немецком нельзя использовать отрицательный артикль и определённый одновременно. Нужно выбрать либо kein Auto, либо das Auto.\\n\\nВопрос: Почему говорят „der beste Freund“ и не нужно mein здесь? Ответ: Потому что „der“ уже выполняет определяющую функцию. Если добавить „mein“, то получится „mein bester Freund“.\\n\\nВопрос: Почему говорят „ins Kino gehen“, но „im Kino sitzen“? Ответ: Предлог „in“ требует Akkusativ при движении („ins Kino“ — куда?) и Dativ при положении („im Kino“ — где?). Артикль обязательно согласуется по падежу.\\n\\nВопрос: Почему говорят „der Iran“, но „nach Deutschland“? Ответ: Некоторые страны имеют артикль в немецком (der Iran, die Türkei). Такие названия требуют артикля и предлога „in“. Остальные — без артикля с предлогом „nach“.\\n\\nВопрос: Почему „mit dem Auto“, но „zu Fuß“? Ответ: Потому что „Auto“ — существительное и требует артикля. „Fuß“ в выражении „zu Fuß“ стал устойчивым выражением без артикля.\\n\\nВопрос: Почему нельзя сказать „Ich esse der Apfel“? Ответ: После глагола „essen“ нужен Akkusativ: „Ich esse den Apfel“. Артикль должен быть в правильной форме в зависимости от падежа.\\n\\nВопрос: Почему говорят „Ich helfe dem Mann“, но „Ich sehe den Mann“? Ответ: Потому что глагол „helfen“ требует дательного падежа, а „sehen“ — винительного. Артикль меняется соответственно.\\n\\nВопрос: Почему „die Niederlande“, но „nach Spanien“? Ответ: „Die Niederlande“ — страна с формой во множественном числе и определённым артиклем. Поэтому говорят: „Ich fahre in die Niederlande“. „Spanien“ — страна без артикля, поэтому „nach Spanien“.\\n\\nВопрос: Почему в выражении „Ich habe Hunger“ нет артикля? Ответ: Это устойчивое выражение. Абстрактные чувства, состояния (Hunger, Durst, Angst) часто употребляются без артикля.\\n\\nВопрос: Почему говорят „zum Arzt gehen“, но „bei dem Arzt sein“? Ответ: „Zum“ — это сокращение от „zu dem“ и используется при направлении (куда?). „Bei dem“ — при указании на местоположение (где?). Артикль обязательно согласуется с падежом.\\n\\nВопрос: Почему „die Schweiz“, но „Frankreich“ без артикля? Ответ: Некоторые страны в немецком имеют артикль (die Schweiz, die Türkei, der Irak), и его обязательно использовать. Большинство стран — без артикля.\\n\\nВопрос: Почему „das Leben ist schön“, а не просто „Leben ist schön“? Ответ: В немецком абстрактные существительные часто получают определённый артикль, особенно когда они — подлежащее предложения.\\n\\nВопрос: Почему говорят „Das ist ein Problem“, но „Das Problem ist gelöst“? Ответ: „Ein“ используется при первом упоминании — неопределённый артикль. „Das Problem“ — при повторном упоминании, конкретизация.\\n\\nВопрос: Почему нельзя сказать „Er liest eine Zeitung und die Buch“? Ответ: Потому что артикль должен соответствовать роду: Zeitung — женского рода (eine), Buch — среднего (das). Поэтому: „das Buch“.\\n\\nВопрос: Почему говорят „ein bisschen Wasser“, а не „ein Wasser“? Ответ: „Wasser“ — неисчисляемое существительное. Для него нельзя использовать „ein“ без уточнения количества. Подходят выражения типа „ein Glas Wasser“, „ein bisschen Wasser“.\\n\\nВопрос: Когда можно сказать „die Deutschen“ без существительного? Ответ: Когда существительное заменяется субстантивированным прилагательным. „Die Deutschen“ = „die deutschen Menschen“.\\n\\nВопрос: Почему „das Neue“, но „ein neuer Tag“? Ответ: „Das Neue“ — субстантивированное прилагательное, ставшее существительным. Оно требует определённого артикля. „Ein neuer Tag“ — обычное сочетание с прилагательным.\\n\\nВопрос: Почему говорят „das Frühstück“, но „zu Frühstück“ — без артикля? Ответ: В устойчивом выражении „zu Frühstück“ артикль опущен по традиции, но правильно: „zum Frühstück“ (сокращение от „zu dem Frühstück“).\\n\\nВопрос: Почему говорят „Ich fahre mit dem Bus“, но „Ich gehe zu Fuß“? Ответ: „Bus“ — исчисляемый предмет, требует артикля. „Fuß“ в выражении „zu Fuß“ используется без артикля как часть устойчивого оборота.\\n\\nВопрос: Почему „ein paar Leute“ — с артиклем ein? Ответ: Здесь „ein paar“ — это устойчивое количественное выражение и переводится как „несколько“. Оно не связано с неопределённым артиклем в полном смысле.\\n\\nВопрос: Почему нельзя сказать „kein viele Leute“? Ответ: Потому что „kein“ и „viele“ — оба являются определителями. Нельзя использовать два определителя подряд. Правильно: „nicht viele Leute“ или „keine Leute“.\\n\\nВопрос: Можно ли сказать „alle Menschen“ и „die Menschen“? В чём разница? Ответ: „Alle Menschen“ — подчёркивает полноту группы. „Die Menschen“ — говорит о конкретной группе. Оба варианта допустимы, но смысл разный.\\n\\nВопрос: Почему „in dem Haus“ → „im Haus“, но нет „izum Haus“? Ответ: Слияние предлога и артикля возможно только с определёнными предлогами (an, auf, in, bei, zu, von и т. д.). Не все предлоги сливаются.\\n\\nВопрос: Когда можно опускать артикль в разговорной речи? Ответ: Только в устойчивых выражениях, при обобщениях и с неисчислимыми абстрактными понятиями. В остальных случаях артикль обязателен.\\n\\nВопрос: Почему „Ich bin Schüler“, но „der Schüler sitzt vorne“? Ответ: После глагола sein профессия или социальная роль используется без артикля. При конкретизации — с определённым артиклем.')]"
      ]
     },
     "execution_count": 10,
     "metadata": {},
     "output_type": "execute_result"
    }
   ],
   "source": [
    "documents"
   ]
  },
  {
   "cell_type": "code",
   "execution_count": 11,
   "metadata": {},
   "outputs": [
    {
     "data": {
      "text/plain": [
       "[{'source': 'documents/1_1_Artikel.docx'}]"
      ]
     },
     "execution_count": 11,
     "metadata": {},
     "output_type": "execute_result"
    }
   ],
   "source": [
    "[doc.metadata for doc in documents]"
   ]
  },
  {
   "cell_type": "code",
   "execution_count": 12,
   "metadata": {},
   "outputs": [
    {
     "data": {
      "text/plain": [
       "['Video', '.DS_Store', '1_1_Artikel.docx']"
      ]
     },
     "execution_count": 12,
     "metadata": {},
     "output_type": "execute_result"
    }
   ],
   "source": [
    "os.listdir(\"documents\")"
   ]
  },
  {
   "cell_type": "code",
   "execution_count": 13,
   "metadata": {},
   "outputs": [
    {
     "data": {
      "text/plain": [
       "6"
      ]
     },
     "execution_count": 13,
     "metadata": {},
     "output_type": "execute_result"
    }
   ],
   "source": [
    "# Splitting documents into chunks\n",
    "splitter = RecursiveCharacterTextSplitter(chunk_size=4000, chunk_overlap=200)\n",
    "chunks = splitter.split_documents(documents)\n",
    "len(chunks)"
   ]
  },
  {
   "cell_type": "code",
   "execution_count": 14,
   "metadata": {},
   "outputs": [],
   "source": [
    "#print(chunks[40])"
   ]
  },
  {
   "cell_type": "code",
   "execution_count": 15,
   "metadata": {},
   "outputs": [],
   "source": [
    "# chunk_40 = chunks[40]\n",
    "# print(chunk_40.page_content)\n"
   ]
  },
  {
   "cell_type": "code",
   "execution_count": 16,
   "metadata": {},
   "outputs": [],
   "source": [
    "# auto_label_prompt = PromptTemplate.from_template(\"\"\"\n",
    "# Come up with a short, general topic name for the following text.\n",
    "\n",
    "# Text:\n",
    "# {chunk}\n",
    "\n",
    "# Return only the topic name.\n",
    "# \"\"\")\n",
    "# auto_label_chain = auto_label_prompt | llm | StrOutputParser()\n",
    "\n",
    "# results = []\n",
    "\n",
    "# for chunk in chunks[:10]:  \n",
    "#     topic = auto_label_chain.invoke({\n",
    "#         \"chunk\": chunk.page_content\n",
    "#     })\n",
    "#     results.append({\n",
    "#         \"text\": chunk.page_content[:50],\n",
    "#         \"topic\": topic\n",
    "#     })\n",
    "\n",
    "# import pandas as pd\n",
    "# df = pd.DataFrame(results)\n",
    "# df.tail()\n"
   ]
  },
  {
   "cell_type": "code",
   "execution_count": 17,
   "metadata": {},
   "outputs": [
    {
     "name": "stdout",
     "output_type": "stream",
     "text": [
      "Created embeddings for 6 document chunks.\n"
     ]
    }
   ],
   "source": [
    "# Creating embeddings\n",
    "from langchain_huggingface.embeddings import HuggingFaceEmbeddings\n",
    "model_kwargs = {'trust_remote_code': True\n",
    "                # ,'device': 'cuda'\n",
    "                }\n",
    "#model_name='models/Linq-Embed-Mistral'\n",
    "#model_name='models/multilingual-e5-large-instruct'\n",
    "model_name='intfloat/multilingual-e5-large-instruct'\n",
    "embedding_model = HuggingFaceEmbeddings(model_name=model_name, model_kwargs=model_kwargs)\n",
    "document_embeddings = embedding_model.embed_documents([split.page_content for split in chunks])\n",
    "print(f\"Created embeddings for {len(document_embeddings)} document chunks.\")\n"
   ]
  },
  {
   "cell_type": "markdown",
   "metadata": {},
   "source": []
  },
  {
   "cell_type": "code",
   "execution_count": 18,
   "metadata": {},
   "outputs": [
    {
     "data": {
      "text/plain": [
       "1024"
      ]
     },
     "execution_count": 18,
     "metadata": {},
     "output_type": "execute_result"
    }
   ],
   "source": [
    "len(document_embeddings[0])"
   ]
  },
  {
   "cell_type": "code",
   "execution_count": 19,
   "metadata": {},
   "outputs": [
    {
     "name": "stdout",
     "output_type": "stream",
     "text": [
      "Vector store created and persisted to './chroma_db' (collection: 'my_collection')\n"
     ]
    }
   ],
   "source": [
    "# Creating vector store\n",
    "from langchain_chroma import Chroma\n",
    "\n",
    "# Setup collection\n",
    "collection_name = \"my_collection\"\n",
    "persist_directory = \"./chroma_db\"\n",
    "\n",
    "vectorstore = Chroma.from_documents(\n",
    "    documents=chunks,\n",
    "    embedding=embedding_model,\n",
    "    persist_directory=persist_directory,\n",
    "    collection_name=collection_name\n",
    ")\n",
    "print(f\"Vector store created and persisted to '{persist_directory}' (collection: '{collection_name}')\")\n"
   ]
  },
  {
   "cell_type": "code",
   "execution_count": 20,
   "metadata": {},
   "outputs": [
    {
     "name": "stdout",
     "output_type": "stream",
     "text": [
      "Result 1:\n",
      "Source: documents/1_1_Artikel.docx\n",
      "Content: Вопрос: Почему в одном случае „Kaffee trinken“, а в другом „der Kaffee ist heiß“? Ответ: Без артикля — если речь идёт о действии в общем. С артиклем — при конкретизации или когда существительное является подлежащим.\n",
      "\n",
      "Вопрос: Почему „Musik ist wichtig“, но „die Musik von Bach ist schön“? Ответ: Абстрактное понятие без артикля — когда говорим в общем. Определённый артикль — при уточнении, например, о чьей музыке идёт речь.\n",
      "\n",
      "Вопрос: Когда используется артикль с названиями языков? Ответ: Без артикля — при указании, на каком языке говорят: „Ich spreche Spanisch“. С артиклем — если язык используется как подлежащее или описывается: „Das Spanische ist melodisch“.\n",
      "\n",
      "Вопрос: Почему нельзя сказать „sie spricht das Deutsch“? Ответ: Потому что „Deutsch“ в этом контексте — имя языка, и оно употребляется без артикля. Артикль добавляется только при субстантивации: „das Deutsche“.\n",
      "\n",
      "Вопрос: Почему нельзя сказать „Ich habe kein das Auto“? Ответ: Потому что в немецком нельзя использовать отрицательный артикль и определённый одновременно. Нужно выбрать либо kein Auto, либо das Auto.\n",
      "\n",
      "Вопрос: Почему говорят „der beste Freund“ и не нужно mein здесь? Ответ: Потому что „der“ уже выполняет определяющую функцию. Если добавить „mein“, то получится „mein bester Freund“.\n",
      "\n",
      "Вопрос: Почему говорят „ins Kino gehen“, но „im Kino sitzen“? Ответ: Предлог „in“ требует Akkusativ при движении („ins Kino“ — куда?) и Dativ при положении („im Kino“ — где?). Артикль обязательно согласуется по падежу.\n",
      "\n",
      "Вопрос: Почему говорят „der Iran“, но „nach Deutschland“? Ответ: Некоторые страны имеют артикль в немецком (der Iran, die Türkei). Такие названия требуют артикля и предлога „in“. Остальные — без артикля с предлогом „nach“.\n",
      "\n",
      "Вопрос: Почему „mit dem Auto“, но „zu Fuß“? Ответ: Потому что „Auto“ — существительное и требует артикля. „Fuß“ в выражении „zu Fuß“ стал устойчивым выражением без артикля.\n",
      "\n",
      "Вопрос: Почему нельзя сказать „Ich esse der Apfel“? Ответ: После глагола „essen“ нужен Akkusativ: „Ich esse den Apfel“. Артикль должен быть в правильной форме в зависимости от падежа.\n",
      "\n",
      "Вопрос: Почему говорят „Ich helfe dem Mann“, но „Ich sehe den Mann“? Ответ: Потому что глагол „helfen“ требует дательного падежа, а „sehen“ — винительного. Артикль меняется соответственно.\n",
      "\n",
      "Вопрос: Почему „die Niederlande“, но „nach Spanien“? Ответ: „Die Niederlande“ — страна с формой во множественном числе и определённым артиклем. Поэтому говорят: „Ich fahre in die Niederlande“. „Spanien“ — страна без артикля, поэтому „nach Spanien“.\n",
      "\n",
      "Вопрос: Почему в выражении „Ich habe Hunger“ нет артикля? Ответ: Это устойчивое выражение. Абстрактные чувства, состояния (Hunger, Durst, Angst) часто употребляются без артикля.\n",
      "\n",
      "Вопрос: Почему говорят „zum Arzt gehen“, но „bei dem Arzt sein“? Ответ: „Zum“ — это сокращение от „zu dem“ и используется при направлении (куда?). „Bei dem“ — при указании на местоположение (где?). Артикль обязательно согласуется с падежом.\n",
      "\n",
      "Вопрос: Почему „die Schweiz“, но „Frankreich“ без артикля? Ответ: Некоторые страны в немецком имеют артикль (die Schweiz, die Türkei, der Irak), и его обязательно использовать. Большинство стран — без артикля.\n",
      "\n",
      "Вопрос: Почему „das Leben ist schön“, а не просто „Leben ist schön“? Ответ: В немецком абстрактные существительные часто получают определённый артикль, особенно когда они — подлежащее предложения.\n",
      "\n",
      "Вопрос: Почему говорят „Das ist ein Problem“, но „Das Problem ist gelöst“? Ответ: „Ein“ используется при первом упоминании — неопределённый артикль. „Das Problem“ — при повторном упоминании, конкретизация.\n",
      "\n",
      "Вопрос: Почему нельзя сказать „Er liest eine Zeitung und die Buch“? Ответ: Потому что артикль должен соответствовать роду: Zeitung — женского рода (eine), Buch — среднего (das). Поэтому: „das Buch“.\n",
      "\n",
      "Вопрос: Почему говорят „ein bisschen Wasser“, а не „ein Wasser“? Ответ: „Wasser“ — неисчисляемое существительное. Для него нельзя использовать „ein“ без уточнения количества. Подходят выражения типа „ein Glas Wasser“, „ein bisschen Wasser“.\n",
      "Result 2:\n",
      "Source: documents/1_1_Artikel.docx\n",
      "Content: Вопрос: Почему говорят „im Park“, а не „in dem Park“? Ответ: Форма „im“ — это сокращение от „in dem“. В разговорной и письменной речи чаще используется сокращённая форма.\n",
      "\n",
      "Вопрос: Почему в Dativ во множественном числе добавляется -n? Ответ: Это грамматическое правило. В Dativ Plural все существительные (если возможно) получают окончание -n: mit den Kindern.\n",
      "\n",
      "Вопрос: Как сказать „какие-то книги“ по-немецки? Ответ: Можно использовать „einige Bücher“, „manche Bücher“ или просто „Bücher“, если речь об абстрактном множестве.\n",
      "\n",
      "Вопрос: Можно ли сказать „Ich kaufe das Brot, die Milch und den Käse“? Ответ: Да. Если ты говоришь о конкретных продуктах, то используешь определённые артикли. Если в общем — Brot, Milch, Käse.\n",
      "\n",
      "Вопрос: Почему „Liebe“ иногда с артиклем, иногда без? Ответ: Без артикля — если абстрактно (Liebe ist wichtig). С артиклем — если конкретизируем (die Liebe meines Lebens).\n",
      "\n",
      "Вопрос: Почему нельзя переводить „у меня нет“ как „ich habe nicht“? Ответ: Потому что с существительными используется kein: ich habe kein Geld. Nicht — для глаголов и прилагательных.\n",
      "\n",
      "Вопрос: Почему нельзя сказать просто „Auto ist rot“? Ответ: В немецком почти всегда нужно ставить артикль: Das Auto ist rot. Без артикля такое предложение считается грамматически неполным.\n",
      "\n",
      "Вопрос: Почему говорят „mein guter Freund“, но „der gute Freund“? Ответ: Потому что после определённого артикля используется слабое склонение прилагательных (der gute Freund), а после притяжательного местоимения — смешанное склонение (mein guter Freund).\n",
      "\n",
      "Вопрос: Почему говорят „ich spreche Deutsch“, но „das Deutsche ist schwer“? Ответ: Без артикля язык употребляется, когда речь идёт о способности. С артиклем — когда язык становится подлежащим и к нему добавляется описание как сущности.\n",
      "\n",
      "Вопрос: Почему говорят „zu Hause“ без артикля? Ответ: Это устойчивое выражение, в котором артикль исторически опущен. В других случаях „Haus“ требует артикля: Ich gehe aus dem Haus.\n",
      "\n",
      "Вопрос: Почему нельзя сказать „die mein Freundin“? Ответ: Потому что притяжательное местоимение „mein“ уже выполняет функцию артикля. Правильно: „meine Freundin“.\n",
      "\n",
      "Вопрос: Почему говорят „ins Bett“, но „im Bett bleiben“? Ответ: Ins Bett — движение в направлении (Akkusativ). Im Bett — положение на месте (Dativ). Предлог „in“ требует Akk или Dat в зависимости от контекста.\n",
      "\n",
      "Вопрос: Почему говорят „die Zeit“ про газету, но просто „Zeit“ во фразе „Ich habe keine Zeit“? Ответ: Потому что „die Zeit“ — это имя собственное (название газеты), а „Zeit“ — абстрактное понятие. Артикль используется только для конкретизации.\n",
      "\n",
      "Вопрос: Почему говорят „der Rhein“, но „nach Frankfurt“? Ответ: Реки в немецком имеют артикли (der Rhein, die Donau), а большинство городов — нет. С городами чаще используется „nach“ без артикля.\n",
      "\n",
      "Вопрос: Почему говорят „die Deutschen“, а не „Deutsch“ во множественном числе? Ответ: Потому что „Deutsch“ — язык, а „die Deutschen“ — люди. Язык — средний род без множественного числа, а национальности получают форму с артиклем.\n",
      "\n",
      "Вопрос: Почему в новостях часто пропускают артикли? Ответ: Это стилистическая особенность официального или телеграфного стиля, где опускаются второстепенные слова для краткости. В разговорной и стандартной речи артикли обязательны.\n",
      "\n",
      "\n",
      "\n",
      "Вопрос: Почему говорят „viele Leute“ без артикля? Ответ: Слово „viele“ уже является определителем, поэтому артикль не нужен. Оно показывает количество и заменяет артикль.\n",
      "\n",
      "Вопрос: Когда можно сказать „die vielen Leute“? Ответ: Если мы хотим подчеркнуть конкретную известную группу людей, используется определённый артикль: „die vielen Leute, die gestern kamen“.\n",
      "\n",
      "Вопрос: Почему „Kinder brauchen Liebe“, а не „Die Kinder brauchen Liebe“? Ответ: Обобщение без артикля используется, когда речь идёт о категории в целом. С артиклем — когда речь идёт о конкретных детях: „Die Kinder in dieser Klasse brauchen Liebe“.\n"
     ]
    }
   ],
   "source": [
    "# Get retriever from the vector store\n",
    "retriever = vectorstore.as_retriever(search_kwargs={\"k\": 2})\n",
    "\n",
    "# Formulate the query\n",
    "query = \"Когда употребляется неопределённый артикль?\"\n",
    "\n",
    "# Retrieve similar text chunks\n",
    "search_results = retriever.invoke(query)\n",
    "\n",
    "# Print the retrieved chunks\n",
    "for i, result in enumerate(search_results, 1):\n",
    "    print(f\"Result {i}:\")\n",
    "    print(f\"Source: {result.metadata.get('source', 'Unknown')}\")\n",
    "    print(f\"Content: {result.page_content}\")\n",
    "\n"
   ]
  },
  {
   "cell_type": "code",
   "execution_count": 37,
   "metadata": {},
   "outputs": [],
   "source": [
    "#\n",
    "from graph_retriever.strategies import Eager\n",
    "from langchain_graph_retriever import GraphRetriever\n",
    "traversal_retriever = GraphRetriever(\n",
    "    store = vectorstore,\n",
    "    edges = [\n",
    "    (\"артикли\", \"неопределенные\"),     \n",
    "    (\"артилки\", \"определенные\"),          \n",
    "    (\"существительные\", \"артикли\"),           \n",
    "],\n",
    "    strategy = Eager(k=5, start_k=1, max_depth=2),\n",
    ")"
   ]
  },
  {
   "cell_type": "code",
   "execution_count": 38,
   "metadata": {},
   "outputs": [
    {
     "name": "stdout",
     "output_type": "stream",
     "text": [
      "4bc55e1f-4c0a-4427-ac65-64eeac09fcc6: Вопрос: Почему в одном случае „Kaffee trinken“, а в другом „der Kaffee ist heiß“? Ответ: Без артикля — если речь идёт о действии в общем. С артиклем — при конкретизации или когда существительное является подлежащим.\n",
      "\n",
      "Вопрос: Почему „Musik ist wichtig“, но „die Musik von Bach ist schön“? Ответ: Абстрактное понятие без артикля — когда говорим в общем. Определённый артикль — при уточнении, например, о чьей музыке идёт речь.\n",
      "\n",
      "Вопрос: Когда используется артикль с названиями языков? Ответ: Без артикля — при указании, на каком языке говорят: „Ich spreche Spanisch“. С артиклем — если язык используется как подлежащее или описывается: „Das Spanische ist melodisch“.\n",
      "\n",
      "Вопрос: Почему нельзя сказать „sie spricht das Deutsch“? Ответ: Потому что „Deutsch“ в этом контексте — имя языка, и оно употребляется без артикля. Артикль добавляется только при субстантивации: „das Deutsche“.\n",
      "\n",
      "Вопрос: Почему нельзя сказать „Ich habe kein das Auto“? Ответ: Потому что в немецком нельзя использовать отрицательный артикль и определённый одновременно. Нужно выбрать либо kein Auto, либо das Auto.\n",
      "\n",
      "Вопрос: Почему говорят „der beste Freund“ и не нужно mein здесь? Ответ: Потому что „der“ уже выполняет определяющую функцию. Если добавить „mein“, то получится „mein bester Freund“.\n",
      "\n",
      "Вопрос: Почему говорят „ins Kino gehen“, но „im Kino sitzen“? Ответ: Предлог „in“ требует Akkusativ при движении („ins Kino“ — куда?) и Dativ при положении („im Kino“ — где?). Артикль обязательно согласуется по падежу.\n",
      "\n",
      "Вопрос: Почему говорят „der Iran“, но „nach Deutschland“? Ответ: Некоторые страны имеют артикль в немецком (der Iran, die Türkei). Такие названия требуют артикля и предлога „in“. Остальные — без артикля с предлогом „nach“.\n",
      "\n",
      "Вопрос: Почему „mit dem Auto“, но „zu Fuß“? Ответ: Потому что „Auto“ — существительное и требует артикля. „Fuß“ в выражении „zu Fuß“ стал устойчивым выражением без артикля.\n",
      "\n",
      "Вопрос: Почему нельзя сказать „Ich esse der Apfel“? Ответ: После глагола „essen“ нужен Akkusativ: „Ich esse den Apfel“. Артикль должен быть в правильной форме в зависимости от падежа.\n",
      "\n",
      "Вопрос: Почему говорят „Ich helfe dem Mann“, но „Ich sehe den Mann“? Ответ: Потому что глагол „helfen“ требует дательного падежа, а „sehen“ — винительного. Артикль меняется соответственно.\n",
      "\n",
      "Вопрос: Почему „die Niederlande“, но „nach Spanien“? Ответ: „Die Niederlande“ — страна с формой во множественном числе и определённым артиклем. Поэтому говорят: „Ich fahre in die Niederlande“. „Spanien“ — страна без артикля, поэтому „nach Spanien“.\n",
      "\n",
      "Вопрос: Почему в выражении „Ich habe Hunger“ нет артикля? Ответ: Это устойчивое выражение. Абстрактные чувства, состояния (Hunger, Durst, Angst) часто употребляются без артикля.\n",
      "\n",
      "Вопрос: Почему говорят „zum Arzt gehen“, но „bei dem Arzt sein“? Ответ: „Zum“ — это сокращение от „zu dem“ и используется при направлении (куда?). „Bei dem“ — при указании на местоположение (где?). Артикль обязательно согласуется с падежом.\n",
      "\n",
      "Вопрос: Почему „die Schweiz“, но „Frankreich“ без артикля? Ответ: Некоторые страны в немецком имеют артикль (die Schweiz, die Türkei, der Irak), и его обязательно использовать. Большинство стран — без артикля.\n",
      "\n",
      "Вопрос: Почему „das Leben ist schön“, а не просто „Leben ist schön“? Ответ: В немецком абстрактные существительные часто получают определённый артикль, особенно когда они — подлежащее предложения.\n",
      "\n",
      "Вопрос: Почему говорят „Das ist ein Problem“, но „Das Problem ist gelöst“? Ответ: „Ein“ используется при первом упоминании — неопределённый артикль. „Das Problem“ — при повторном упоминании, конкретизация.\n",
      "\n",
      "Вопрос: Почему нельзя сказать „Er liest eine Zeitung und die Buch“? Ответ: Потому что артикль должен соответствовать роду: Zeitung — женского рода (eine), Buch — среднего (das). Поэтому: „das Buch“.\n",
      "\n",
      "Вопрос: Почему говорят „ein bisschen Wasser“, а не „ein Wasser“? Ответ: „Wasser“ — неисчисляемое существительное. Для него нельзя использовать „ein“ без уточнения количества. Подходят выражения типа „ein Glas Wasser“, „ein bisschen Wasser“.\n"
     ]
    }
   ],
   "source": [
    "results = traversal_retriever.invoke(\"Зачем ставить артикль в немецком языке?\")\n",
    "for doc in results:\n",
    "    print(f\"{doc.id}: {doc.page_content}\")"
   ]
  },
  {
   "cell_type": "code",
   "execution_count": 39,
   "metadata": {},
   "outputs": [],
   "source": [
    "prompt = ChatPromptTemplate.from_template(\n",
    "    \"\"\"Answer the question ONLY based on the context below.'\n",
    "\n",
    "Context:\n",
    "{context}\n",
    "\n",
    "Question:\n",
    "{question}\n",
    "\n",
    "\n",
    "Не выводи никакие специальные символы, текст должен быть легко читаемым\n",
    "\n",
    "\"\"\"\n",
    ")"
   ]
  },
  {
   "cell_type": "code",
   "execution_count": 61,
   "metadata": {},
   "outputs": [],
   "source": [
    "def format_docs(docs):\n",
    "    return \"\\n\\n\".join(f\"text: {doc.page_content} metadata: {doc.metadata}\" for doc in docs)\n",
    "parser = StrOutputParser()\n",
    "llm_chain = (\n",
    "        {\"context\": traversal_retriever | format_docs, \"question\": RunnablePassthrough()}\n",
    "        | prompt\n",
    "        | llm\n",
    "        | parser\n",
    "    )\n",
    "\n",
    "# print(llm_chain.invoke(f'Какого рода слова употребляются без артикля?'))"
   ]
  },
  {
   "cell_type": "code",
   "execution_count": 62,
   "metadata": {},
   "outputs": [
    {
     "data": {
      "text/markdown": [
       "Вопрос: Почему говорят „Ich habe kein Geld“, а не „nicht Geld“?\n",
       "\n",
       "Ответ: Потому что Geld — существительное с неопределённым значением. Для существительных без артикля используется kein."
      ],
      "text/plain": [
       "<IPython.core.display.Markdown object>"
      ]
     },
     "metadata": {},
     "output_type": "display_data"
    }
   ],
   "source": [
    "output = \"\"\n",
    "\n",
    "async for event in llm_chain.astream_events(\"\"):\n",
    "    if event[\"event\"] == \"on_chat_model_stream\":\n",
    "        chunk = event[\"data\"][\"chunk\"]\n",
    "        output += chunk.content\n",
    "        clear_output(wait=True)\n",
    "        display(Markdown(output))\n"
   ]
  },
  {
   "cell_type": "code",
   "execution_count": 26,
   "metadata": {},
   "outputs": [
    {
     "data": {
      "text/markdown": [
       "Конечно! Вот шутка про грамматику:\n",
       "\n",
       "Почему грамматические ошибки так любят вечеринки?\n",
       "\n",
       "Потому что они всегда находят, где поставить точку!"
      ],
      "text/plain": [
       "<IPython.core.display.Markdown object>"
      ]
     },
     "metadata": {},
     "output_type": "display_data"
    }
   ],
   "source": [
    "from IPython.display import display, Markdown, clear_output\n",
    "\n",
    "output = \"\"\n",
    "\n",
    "async for event in llm.astream_events(\"Расскажи шутку про грамматику\"):\n",
    "    if event[\"event\"] == \"on_chat_model_stream\":\n",
    "        chunk = event[\"data\"][\"chunk\"]\n",
    "        output += chunk.content  # теперь правильно\n",
    "        clear_output(wait=True)\n",
    "        display(Markdown(output))\n",
    "\n",
    "\n",
    "\n"
   ]
  },
  {
   "cell_type": "code",
   "execution_count": 27,
   "metadata": {},
   "outputs": [
    {
     "name": "stdout",
     "output_type": "stream",
     "text": [
      "Неопределённый артикль в немецком языке используется при первом упоминании предмета, если он неизвестен собеседнику. Он имеет формы: ein (для мужского и среднего рода) и eine (для женского рода). Неопределённый артикль не имеет формы во множественном числе. Примеры использования: ein Mann, eine Frau, ein Kind.\n"
     ]
    }
   ],
   "source": [
    "from langchain.chains import RetrievalQA\n",
    "\n",
    "qa_chain = RetrievalQA.from_chain_type(\n",
    "    llm=llm,\n",
    "    retriever=vectorstore.as_retriever(),  # ← твоя база\n",
    "    return_source_documents=True\n",
    ")\n",
    "\n",
    "result = qa_chain.invoke({\"query\": \"Когда используется неопределённый артикль?\"})\n",
    "print(result[\"result\"])\n"
   ]
  },
  {
   "cell_type": "code",
   "execution_count": 28,
   "metadata": {},
   "outputs": [
    {
     "name": "stdout",
     "output_type": "stream",
     "text": [
      "content='' additional_kwargs={} response_metadata={} id='run--8d36a4b9-37df-47c8-bcd1-af5c177bb2e4'content='Ар' additional_kwargs={} response_metadata={} id='run--8d36a4b9-37df-47c8-bcd1-af5c177bb2e4'content='тик' additional_kwargs={} response_metadata={} id='run--8d36a4b9-37df-47c8-bcd1-af5c177bb2e4'content='ль' additional_kwargs={} response_metadata={} id='run--8d36a4b9-37df-47c8-bcd1-af5c177bb2e4'content=' в' additional_kwargs={} response_metadata={} id='run--8d36a4b9-37df-47c8-bcd1-af5c177bb2e4'content=' немец' additional_kwargs={} response_metadata={} id='run--8d36a4b9-37df-47c8-bcd1-af5c177bb2e4'content='ком' additional_kwargs={} response_metadata={} id='run--8d36a4b9-37df-47c8-bcd1-af5c177bb2e4'content=' языке' additional_kwargs={} response_metadata={} id='run--8d36a4b9-37df-47c8-bcd1-af5c177bb2e4'content=' используется' additional_kwargs={} response_metadata={} id='run--8d36a4b9-37df-47c8-bcd1-af5c177bb2e4'content=' для' additional_kwargs={} response_metadata={} id='run--8d36a4b9-37df-47c8-bcd1-af5c177bb2e4'content=' конкрет' additional_kwargs={} response_metadata={} id='run--8d36a4b9-37df-47c8-bcd1-af5c177bb2e4'content='изации' additional_kwargs={} response_metadata={} id='run--8d36a4b9-37df-47c8-bcd1-af5c177bb2e4'content=',' additional_kwargs={} response_metadata={} id='run--8d36a4b9-37df-47c8-bcd1-af5c177bb2e4'content=' указ' additional_kwargs={} response_metadata={} id='run--8d36a4b9-37df-47c8-bcd1-af5c177bb2e4'content='ания' additional_kwargs={} response_metadata={} id='run--8d36a4b9-37df-47c8-bcd1-af5c177bb2e4'content=' на' additional_kwargs={} response_metadata={} id='run--8d36a4b9-37df-47c8-bcd1-af5c177bb2e4'content=' определ' additional_kwargs={} response_metadata={} id='run--8d36a4b9-37df-47c8-bcd1-af5c177bb2e4'content='ён' additional_kwargs={} response_metadata={} id='run--8d36a4b9-37df-47c8-bcd1-af5c177bb2e4'content='ность' additional_kwargs={} response_metadata={} id='run--8d36a4b9-37df-47c8-bcd1-af5c177bb2e4'content=' или' additional_kwargs={} response_metadata={} id='run--8d36a4b9-37df-47c8-bcd1-af5c177bb2e4'content=' неоп' additional_kwargs={} response_metadata={} id='run--8d36a4b9-37df-47c8-bcd1-af5c177bb2e4'content='редел' additional_kwargs={} response_metadata={} id='run--8d36a4b9-37df-47c8-bcd1-af5c177bb2e4'content='ён' additional_kwargs={} response_metadata={} id='run--8d36a4b9-37df-47c8-bcd1-af5c177bb2e4'content='ность' additional_kwargs={} response_metadata={} id='run--8d36a4b9-37df-47c8-bcd1-af5c177bb2e4'content=',' additional_kwargs={} response_metadata={} id='run--8d36a4b9-37df-47c8-bcd1-af5c177bb2e4'content=' а' additional_kwargs={} response_metadata={} id='run--8d36a4b9-37df-47c8-bcd1-af5c177bb2e4'content=' также' additional_kwargs={} response_metadata={} id='run--8d36a4b9-37df-47c8-bcd1-af5c177bb2e4'content=' для' additional_kwargs={} response_metadata={} id='run--8d36a4b9-37df-47c8-bcd1-af5c177bb2e4'content=' соглас' additional_kwargs={} response_metadata={} id='run--8d36a4b9-37df-47c8-bcd1-af5c177bb2e4'content='ования' additional_kwargs={} response_metadata={} id='run--8d36a4b9-37df-47c8-bcd1-af5c177bb2e4'content=' с' additional_kwargs={} response_metadata={} id='run--8d36a4b9-37df-47c8-bcd1-af5c177bb2e4'content=' пад' additional_kwargs={} response_metadata={} id='run--8d36a4b9-37df-47c8-bcd1-af5c177bb2e4'content='еж' additional_kwargs={} response_metadata={} id='run--8d36a4b9-37df-47c8-bcd1-af5c177bb2e4'content='ом' additional_kwargs={} response_metadata={} id='run--8d36a4b9-37df-47c8-bcd1-af5c177bb2e4'content=' и' additional_kwargs={} response_metadata={} id='run--8d36a4b9-37df-47c8-bcd1-af5c177bb2e4'content=' род' additional_kwargs={} response_metadata={} id='run--8d36a4b9-37df-47c8-bcd1-af5c177bb2e4'content='ом' additional_kwargs={} response_metadata={} id='run--8d36a4b9-37df-47c8-bcd1-af5c177bb2e4'content=' существ' additional_kwargs={} response_metadata={} id='run--8d36a4b9-37df-47c8-bcd1-af5c177bb2e4'content='ительного' additional_kwargs={} response_metadata={} id='run--8d36a4b9-37df-47c8-bcd1-af5c177bb2e4'content='.' additional_kwargs={} response_metadata={} id='run--8d36a4b9-37df-47c8-bcd1-af5c177bb2e4'content='' additional_kwargs={} response_metadata={'finish_reason': 'stop', 'model_name': 'gpt-4o-2024-08-06', 'system_fingerprint': 'fp_07871e2ad8', 'service_tier': 'default'} id='run--8d36a4b9-37df-47c8-bcd1-af5c177bb2e4'"
     ]
    }
   ],
   "source": [
    "async for event in llm_chain.astream_events(\"Зачем ставить артикль в немецком языке?\"):\n",
    "    if event[\"event\"] == \"on_chat_model_stream\":\n",
    "        print(event[\"data\"][\"chunk\"], end=\"\", flush=True)\n"
   ]
  },
  {
   "cell_type": "code",
   "execution_count": 29,
   "metadata": {},
   "outputs": [
    {
     "name": "stdout",
     "output_type": "stream",
     "text": [
      "{'event': 'on_chat_model_stream', 'data': {'chunk': AIMessageChunk(content='', additional_kwargs={}, response_metadata={}, id='run--bb07d08b-2a67-4b6a-b2c4-9ef564e2fdc7')}, 'run_id': 'bb07d08b-2a67-4b6a-b2c4-9ef564e2fdc7', 'name': 'ChatOpenAI', 'tags': ['seq:step:3'], 'metadata': {'ls_provider': 'openai', 'ls_model_name': 'gpt-4o', 'ls_model_type': 'chat', 'ls_temperature': 0.0}, 'parent_ids': ['c9a7c3f7-a69e-462a-b596-ab0df385a3da']}|{'event': 'on_chat_model_stream', 'data': {'chunk': AIMessageChunk(content='Ар', additional_kwargs={}, response_metadata={}, id='run--bb07d08b-2a67-4b6a-b2c4-9ef564e2fdc7')}, 'run_id': 'bb07d08b-2a67-4b6a-b2c4-9ef564e2fdc7', 'name': 'ChatOpenAI', 'tags': ['seq:step:3'], 'metadata': {'ls_provider': 'openai', 'ls_model_name': 'gpt-4o', 'ls_model_type': 'chat', 'ls_temperature': 0.0}, 'parent_ids': ['c9a7c3f7-a69e-462a-b596-ab0df385a3da']}|{'event': 'on_chat_model_stream', 'data': {'chunk': AIMessageChunk(content='тик', additional_kwargs={}, response_metadata={}, id='run--bb07d08b-2a67-4b6a-b2c4-9ef564e2fdc7')}, 'run_id': 'bb07d08b-2a67-4b6a-b2c4-9ef564e2fdc7', 'name': 'ChatOpenAI', 'tags': ['seq:step:3'], 'metadata': {'ls_provider': 'openai', 'ls_model_name': 'gpt-4o', 'ls_model_type': 'chat', 'ls_temperature': 0.0}, 'parent_ids': ['c9a7c3f7-a69e-462a-b596-ab0df385a3da']}|{'event': 'on_chat_model_stream', 'data': {'chunk': AIMessageChunk(content='ль', additional_kwargs={}, response_metadata={}, id='run--bb07d08b-2a67-4b6a-b2c4-9ef564e2fdc7')}, 'run_id': 'bb07d08b-2a67-4b6a-b2c4-9ef564e2fdc7', 'name': 'ChatOpenAI', 'tags': ['seq:step:3'], 'metadata': {'ls_provider': 'openai', 'ls_model_name': 'gpt-4o', 'ls_model_type': 'chat', 'ls_temperature': 0.0}, 'parent_ids': ['c9a7c3f7-a69e-462a-b596-ab0df385a3da']}|{'event': 'on_chat_model_stream', 'data': {'chunk': AIMessageChunk(content=' в', additional_kwargs={}, response_metadata={}, id='run--bb07d08b-2a67-4b6a-b2c4-9ef564e2fdc7')}, 'run_id': 'bb07d08b-2a67-4b6a-b2c4-9ef564e2fdc7', 'name': 'ChatOpenAI', 'tags': ['seq:step:3'], 'metadata': {'ls_provider': 'openai', 'ls_model_name': 'gpt-4o', 'ls_model_type': 'chat', 'ls_temperature': 0.0}, 'parent_ids': ['c9a7c3f7-a69e-462a-b596-ab0df385a3da']}|{'event': 'on_chat_model_stream', 'data': {'chunk': AIMessageChunk(content=' немец', additional_kwargs={}, response_metadata={}, id='run--bb07d08b-2a67-4b6a-b2c4-9ef564e2fdc7')}, 'run_id': 'bb07d08b-2a67-4b6a-b2c4-9ef564e2fdc7', 'name': 'ChatOpenAI', 'tags': ['seq:step:3'], 'metadata': {'ls_provider': 'openai', 'ls_model_name': 'gpt-4o', 'ls_model_type': 'chat', 'ls_temperature': 0.0}, 'parent_ids': ['c9a7c3f7-a69e-462a-b596-ab0df385a3da']}|{'event': 'on_chat_model_stream', 'data': {'chunk': AIMessageChunk(content='ком', additional_kwargs={}, response_metadata={}, id='run--bb07d08b-2a67-4b6a-b2c4-9ef564e2fdc7')}, 'run_id': 'bb07d08b-2a67-4b6a-b2c4-9ef564e2fdc7', 'name': 'ChatOpenAI', 'tags': ['seq:step:3'], 'metadata': {'ls_provider': 'openai', 'ls_model_name': 'gpt-4o', 'ls_model_type': 'chat', 'ls_temperature': 0.0}, 'parent_ids': ['c9a7c3f7-a69e-462a-b596-ab0df385a3da']}|{'event': 'on_chat_model_stream', 'data': {'chunk': AIMessageChunk(content=' языке', additional_kwargs={}, response_metadata={}, id='run--bb07d08b-2a67-4b6a-b2c4-9ef564e2fdc7')}, 'run_id': 'bb07d08b-2a67-4b6a-b2c4-9ef564e2fdc7', 'name': 'ChatOpenAI', 'tags': ['seq:step:3'], 'metadata': {'ls_provider': 'openai', 'ls_model_name': 'gpt-4o', 'ls_model_type': 'chat', 'ls_temperature': 0.0}, 'parent_ids': ['c9a7c3f7-a69e-462a-b596-ab0df385a3da']}|{'event': 'on_chat_model_stream', 'data': {'chunk': AIMessageChunk(content=' используется', additional_kwargs={}, response_metadata={}, id='run--bb07d08b-2a67-4b6a-b2c4-9ef564e2fdc7')}, 'run_id': 'bb07d08b-2a67-4b6a-b2c4-9ef564e2fdc7', 'name': 'ChatOpenAI', 'tags': ['seq:step:3'], 'metadata': {'ls_provider': 'openai', 'ls_model_name': 'gpt-4o', 'ls_model_type': 'chat', 'ls_temperature': 0.0}, 'parent_ids': ['c9a7c3f7-a69e-462a-b596-ab0df385a3da']}|{'event': 'on_chat_model_stream', 'data': {'chunk': AIMessageChunk(content=' для', additional_kwargs={}, response_metadata={}, id='run--bb07d08b-2a67-4b6a-b2c4-9ef564e2fdc7')}, 'run_id': 'bb07d08b-2a67-4b6a-b2c4-9ef564e2fdc7', 'name': 'ChatOpenAI', 'tags': ['seq:step:3'], 'metadata': {'ls_provider': 'openai', 'ls_model_name': 'gpt-4o', 'ls_model_type': 'chat', 'ls_temperature': 0.0}, 'parent_ids': ['c9a7c3f7-a69e-462a-b596-ab0df385a3da']}|{'event': 'on_chat_model_stream', 'data': {'chunk': AIMessageChunk(content=' конкрет', additional_kwargs={}, response_metadata={}, id='run--bb07d08b-2a67-4b6a-b2c4-9ef564e2fdc7')}, 'run_id': 'bb07d08b-2a67-4b6a-b2c4-9ef564e2fdc7', 'name': 'ChatOpenAI', 'tags': ['seq:step:3'], 'metadata': {'ls_provider': 'openai', 'ls_model_name': 'gpt-4o', 'ls_model_type': 'chat', 'ls_temperature': 0.0}, 'parent_ids': ['c9a7c3f7-a69e-462a-b596-ab0df385a3da']}|{'event': 'on_chat_model_stream', 'data': {'chunk': AIMessageChunk(content='изации', additional_kwargs={}, response_metadata={}, id='run--bb07d08b-2a67-4b6a-b2c4-9ef564e2fdc7')}, 'run_id': 'bb07d08b-2a67-4b6a-b2c4-9ef564e2fdc7', 'name': 'ChatOpenAI', 'tags': ['seq:step:3'], 'metadata': {'ls_provider': 'openai', 'ls_model_name': 'gpt-4o', 'ls_model_type': 'chat', 'ls_temperature': 0.0}, 'parent_ids': ['c9a7c3f7-a69e-462a-b596-ab0df385a3da']}|{'event': 'on_chat_model_stream', 'data': {'chunk': AIMessageChunk(content=',', additional_kwargs={}, response_metadata={}, id='run--bb07d08b-2a67-4b6a-b2c4-9ef564e2fdc7')}, 'run_id': 'bb07d08b-2a67-4b6a-b2c4-9ef564e2fdc7', 'name': 'ChatOpenAI', 'tags': ['seq:step:3'], 'metadata': {'ls_provider': 'openai', 'ls_model_name': 'gpt-4o', 'ls_model_type': 'chat', 'ls_temperature': 0.0}, 'parent_ids': ['c9a7c3f7-a69e-462a-b596-ab0df385a3da']}|{'event': 'on_chat_model_stream', 'data': {'chunk': AIMessageChunk(content=' указ', additional_kwargs={}, response_metadata={}, id='run--bb07d08b-2a67-4b6a-b2c4-9ef564e2fdc7')}, 'run_id': 'bb07d08b-2a67-4b6a-b2c4-9ef564e2fdc7', 'name': 'ChatOpenAI', 'tags': ['seq:step:3'], 'metadata': {'ls_provider': 'openai', 'ls_model_name': 'gpt-4o', 'ls_model_type': 'chat', 'ls_temperature': 0.0}, 'parent_ids': ['c9a7c3f7-a69e-462a-b596-ab0df385a3da']}|{'event': 'on_chat_model_stream', 'data': {'chunk': AIMessageChunk(content='ания', additional_kwargs={}, response_metadata={}, id='run--bb07d08b-2a67-4b6a-b2c4-9ef564e2fdc7')}, 'run_id': 'bb07d08b-2a67-4b6a-b2c4-9ef564e2fdc7', 'name': 'ChatOpenAI', 'tags': ['seq:step:3'], 'metadata': {'ls_provider': 'openai', 'ls_model_name': 'gpt-4o', 'ls_model_type': 'chat', 'ls_temperature': 0.0}, 'parent_ids': ['c9a7c3f7-a69e-462a-b596-ab0df385a3da']}|{'event': 'on_chat_model_stream', 'data': {'chunk': AIMessageChunk(content=' на', additional_kwargs={}, response_metadata={}, id='run--bb07d08b-2a67-4b6a-b2c4-9ef564e2fdc7')}, 'run_id': 'bb07d08b-2a67-4b6a-b2c4-9ef564e2fdc7', 'name': 'ChatOpenAI', 'tags': ['seq:step:3'], 'metadata': {'ls_provider': 'openai', 'ls_model_name': 'gpt-4o', 'ls_model_type': 'chat', 'ls_temperature': 0.0}, 'parent_ids': ['c9a7c3f7-a69e-462a-b596-ab0df385a3da']}|{'event': 'on_chat_model_stream', 'data': {'chunk': AIMessageChunk(content=' определ', additional_kwargs={}, response_metadata={}, id='run--bb07d08b-2a67-4b6a-b2c4-9ef564e2fdc7')}, 'run_id': 'bb07d08b-2a67-4b6a-b2c4-9ef564e2fdc7', 'name': 'ChatOpenAI', 'tags': ['seq:step:3'], 'metadata': {'ls_provider': 'openai', 'ls_model_name': 'gpt-4o', 'ls_model_type': 'chat', 'ls_temperature': 0.0}, 'parent_ids': ['c9a7c3f7-a69e-462a-b596-ab0df385a3da']}|{'event': 'on_chat_model_stream', 'data': {'chunk': AIMessageChunk(content='ён', additional_kwargs={}, response_metadata={}, id='run--bb07d08b-2a67-4b6a-b2c4-9ef564e2fdc7')}, 'run_id': 'bb07d08b-2a67-4b6a-b2c4-9ef564e2fdc7', 'name': 'ChatOpenAI', 'tags': ['seq:step:3'], 'metadata': {'ls_provider': 'openai', 'ls_model_name': 'gpt-4o', 'ls_model_type': 'chat', 'ls_temperature': 0.0}, 'parent_ids': ['c9a7c3f7-a69e-462a-b596-ab0df385a3da']}|{'event': 'on_chat_model_stream', 'data': {'chunk': AIMessageChunk(content='ность', additional_kwargs={}, response_metadata={}, id='run--bb07d08b-2a67-4b6a-b2c4-9ef564e2fdc7')}, 'run_id': 'bb07d08b-2a67-4b6a-b2c4-9ef564e2fdc7', 'name': 'ChatOpenAI', 'tags': ['seq:step:3'], 'metadata': {'ls_provider': 'openai', 'ls_model_name': 'gpt-4o', 'ls_model_type': 'chat', 'ls_temperature': 0.0}, 'parent_ids': ['c9a7c3f7-a69e-462a-b596-ab0df385a3da']}|{'event': 'on_chat_model_stream', 'data': {'chunk': AIMessageChunk(content=' или', additional_kwargs={}, response_metadata={}, id='run--bb07d08b-2a67-4b6a-b2c4-9ef564e2fdc7')}, 'run_id': 'bb07d08b-2a67-4b6a-b2c4-9ef564e2fdc7', 'name': 'ChatOpenAI', 'tags': ['seq:step:3'], 'metadata': {'ls_provider': 'openai', 'ls_model_name': 'gpt-4o', 'ls_model_type': 'chat', 'ls_temperature': 0.0}, 'parent_ids': ['c9a7c3f7-a69e-462a-b596-ab0df385a3da']}|{'event': 'on_chat_model_stream', 'data': {'chunk': AIMessageChunk(content=' неоп', additional_kwargs={}, response_metadata={}, id='run--bb07d08b-2a67-4b6a-b2c4-9ef564e2fdc7')}, 'run_id': 'bb07d08b-2a67-4b6a-b2c4-9ef564e2fdc7', 'name': 'ChatOpenAI', 'tags': ['seq:step:3'], 'metadata': {'ls_provider': 'openai', 'ls_model_name': 'gpt-4o', 'ls_model_type': 'chat', 'ls_temperature': 0.0}, 'parent_ids': ['c9a7c3f7-a69e-462a-b596-ab0df385a3da']}|{'event': 'on_chat_model_stream', 'data': {'chunk': AIMessageChunk(content='редел', additional_kwargs={}, response_metadata={}, id='run--bb07d08b-2a67-4b6a-b2c4-9ef564e2fdc7')}, 'run_id': 'bb07d08b-2a67-4b6a-b2c4-9ef564e2fdc7', 'name': 'ChatOpenAI', 'tags': ['seq:step:3'], 'metadata': {'ls_provider': 'openai', 'ls_model_name': 'gpt-4o', 'ls_model_type': 'chat', 'ls_temperature': 0.0}, 'parent_ids': ['c9a7c3f7-a69e-462a-b596-ab0df385a3da']}|{'event': 'on_chat_model_stream', 'data': {'chunk': AIMessageChunk(content='ён', additional_kwargs={}, response_metadata={}, id='run--bb07d08b-2a67-4b6a-b2c4-9ef564e2fdc7')}, 'run_id': 'bb07d08b-2a67-4b6a-b2c4-9ef564e2fdc7', 'name': 'ChatOpenAI', 'tags': ['seq:step:3'], 'metadata': {'ls_provider': 'openai', 'ls_model_name': 'gpt-4o', 'ls_model_type': 'chat', 'ls_temperature': 0.0}, 'parent_ids': ['c9a7c3f7-a69e-462a-b596-ab0df385a3da']}|{'event': 'on_chat_model_stream', 'data': {'chunk': AIMessageChunk(content='ность', additional_kwargs={}, response_metadata={}, id='run--bb07d08b-2a67-4b6a-b2c4-9ef564e2fdc7')}, 'run_id': 'bb07d08b-2a67-4b6a-b2c4-9ef564e2fdc7', 'name': 'ChatOpenAI', 'tags': ['seq:step:3'], 'metadata': {'ls_provider': 'openai', 'ls_model_name': 'gpt-4o', 'ls_model_type': 'chat', 'ls_temperature': 0.0}, 'parent_ids': ['c9a7c3f7-a69e-462a-b596-ab0df385a3da']}|{'event': 'on_chat_model_stream', 'data': {'chunk': AIMessageChunk(content=',', additional_kwargs={}, response_metadata={}, id='run--bb07d08b-2a67-4b6a-b2c4-9ef564e2fdc7')}, 'run_id': 'bb07d08b-2a67-4b6a-b2c4-9ef564e2fdc7', 'name': 'ChatOpenAI', 'tags': ['seq:step:3'], 'metadata': {'ls_provider': 'openai', 'ls_model_name': 'gpt-4o', 'ls_model_type': 'chat', 'ls_temperature': 0.0}, 'parent_ids': ['c9a7c3f7-a69e-462a-b596-ab0df385a3da']}|{'event': 'on_chat_model_stream', 'data': {'chunk': AIMessageChunk(content=' а', additional_kwargs={}, response_metadata={}, id='run--bb07d08b-2a67-4b6a-b2c4-9ef564e2fdc7')}, 'run_id': 'bb07d08b-2a67-4b6a-b2c4-9ef564e2fdc7', 'name': 'ChatOpenAI', 'tags': ['seq:step:3'], 'metadata': {'ls_provider': 'openai', 'ls_model_name': 'gpt-4o', 'ls_model_type': 'chat', 'ls_temperature': 0.0}, 'parent_ids': ['c9a7c3f7-a69e-462a-b596-ab0df385a3da']}|{'event': 'on_chat_model_stream', 'data': {'chunk': AIMessageChunk(content=' также', additional_kwargs={}, response_metadata={}, id='run--bb07d08b-2a67-4b6a-b2c4-9ef564e2fdc7')}, 'run_id': 'bb07d08b-2a67-4b6a-b2c4-9ef564e2fdc7', 'name': 'ChatOpenAI', 'tags': ['seq:step:3'], 'metadata': {'ls_provider': 'openai', 'ls_model_name': 'gpt-4o', 'ls_model_type': 'chat', 'ls_temperature': 0.0}, 'parent_ids': ['c9a7c3f7-a69e-462a-b596-ab0df385a3da']}|{'event': 'on_chat_model_stream', 'data': {'chunk': AIMessageChunk(content=' для', additional_kwargs={}, response_metadata={}, id='run--bb07d08b-2a67-4b6a-b2c4-9ef564e2fdc7')}, 'run_id': 'bb07d08b-2a67-4b6a-b2c4-9ef564e2fdc7', 'name': 'ChatOpenAI', 'tags': ['seq:step:3'], 'metadata': {'ls_provider': 'openai', 'ls_model_name': 'gpt-4o', 'ls_model_type': 'chat', 'ls_temperature': 0.0}, 'parent_ids': ['c9a7c3f7-a69e-462a-b596-ab0df385a3da']}|{'event': 'on_chat_model_stream', 'data': {'chunk': AIMessageChunk(content=' соглас', additional_kwargs={}, response_metadata={}, id='run--bb07d08b-2a67-4b6a-b2c4-9ef564e2fdc7')}, 'run_id': 'bb07d08b-2a67-4b6a-b2c4-9ef564e2fdc7', 'name': 'ChatOpenAI', 'tags': ['seq:step:3'], 'metadata': {'ls_provider': 'openai', 'ls_model_name': 'gpt-4o', 'ls_model_type': 'chat', 'ls_temperature': 0.0}, 'parent_ids': ['c9a7c3f7-a69e-462a-b596-ab0df385a3da']}|{'event': 'on_chat_model_stream', 'data': {'chunk': AIMessageChunk(content='ования', additional_kwargs={}, response_metadata={}, id='run--bb07d08b-2a67-4b6a-b2c4-9ef564e2fdc7')}, 'run_id': 'bb07d08b-2a67-4b6a-b2c4-9ef564e2fdc7', 'name': 'ChatOpenAI', 'tags': ['seq:step:3'], 'metadata': {'ls_provider': 'openai', 'ls_model_name': 'gpt-4o', 'ls_model_type': 'chat', 'ls_temperature': 0.0}, 'parent_ids': ['c9a7c3f7-a69e-462a-b596-ab0df385a3da']}|{'event': 'on_chat_model_stream', 'data': {'chunk': AIMessageChunk(content=' с', additional_kwargs={}, response_metadata={}, id='run--bb07d08b-2a67-4b6a-b2c4-9ef564e2fdc7')}, 'run_id': 'bb07d08b-2a67-4b6a-b2c4-9ef564e2fdc7', 'name': 'ChatOpenAI', 'tags': ['seq:step:3'], 'metadata': {'ls_provider': 'openai', 'ls_model_name': 'gpt-4o', 'ls_model_type': 'chat', 'ls_temperature': 0.0}, 'parent_ids': ['c9a7c3f7-a69e-462a-b596-ab0df385a3da']}|{'event': 'on_chat_model_stream', 'data': {'chunk': AIMessageChunk(content=' пад', additional_kwargs={}, response_metadata={}, id='run--bb07d08b-2a67-4b6a-b2c4-9ef564e2fdc7')}, 'run_id': 'bb07d08b-2a67-4b6a-b2c4-9ef564e2fdc7', 'name': 'ChatOpenAI', 'tags': ['seq:step:3'], 'metadata': {'ls_provider': 'openai', 'ls_model_name': 'gpt-4o', 'ls_model_type': 'chat', 'ls_temperature': 0.0}, 'parent_ids': ['c9a7c3f7-a69e-462a-b596-ab0df385a3da']}|{'event': 'on_chat_model_stream', 'data': {'chunk': AIMessageChunk(content='еж', additional_kwargs={}, response_metadata={}, id='run--bb07d08b-2a67-4b6a-b2c4-9ef564e2fdc7')}, 'run_id': 'bb07d08b-2a67-4b6a-b2c4-9ef564e2fdc7', 'name': 'ChatOpenAI', 'tags': ['seq:step:3'], 'metadata': {'ls_provider': 'openai', 'ls_model_name': 'gpt-4o', 'ls_model_type': 'chat', 'ls_temperature': 0.0}, 'parent_ids': ['c9a7c3f7-a69e-462a-b596-ab0df385a3da']}|{'event': 'on_chat_model_stream', 'data': {'chunk': AIMessageChunk(content='ом', additional_kwargs={}, response_metadata={}, id='run--bb07d08b-2a67-4b6a-b2c4-9ef564e2fdc7')}, 'run_id': 'bb07d08b-2a67-4b6a-b2c4-9ef564e2fdc7', 'name': 'ChatOpenAI', 'tags': ['seq:step:3'], 'metadata': {'ls_provider': 'openai', 'ls_model_name': 'gpt-4o', 'ls_model_type': 'chat', 'ls_temperature': 0.0}, 'parent_ids': ['c9a7c3f7-a69e-462a-b596-ab0df385a3da']}|{'event': 'on_chat_model_stream', 'data': {'chunk': AIMessageChunk(content=' и', additional_kwargs={}, response_metadata={}, id='run--bb07d08b-2a67-4b6a-b2c4-9ef564e2fdc7')}, 'run_id': 'bb07d08b-2a67-4b6a-b2c4-9ef564e2fdc7', 'name': 'ChatOpenAI', 'tags': ['seq:step:3'], 'metadata': {'ls_provider': 'openai', 'ls_model_name': 'gpt-4o', 'ls_model_type': 'chat', 'ls_temperature': 0.0}, 'parent_ids': ['c9a7c3f7-a69e-462a-b596-ab0df385a3da']}|{'event': 'on_chat_model_stream', 'data': {'chunk': AIMessageChunk(content=' род', additional_kwargs={}, response_metadata={}, id='run--bb07d08b-2a67-4b6a-b2c4-9ef564e2fdc7')}, 'run_id': 'bb07d08b-2a67-4b6a-b2c4-9ef564e2fdc7', 'name': 'ChatOpenAI', 'tags': ['seq:step:3'], 'metadata': {'ls_provider': 'openai', 'ls_model_name': 'gpt-4o', 'ls_model_type': 'chat', 'ls_temperature': 0.0}, 'parent_ids': ['c9a7c3f7-a69e-462a-b596-ab0df385a3da']}|{'event': 'on_chat_model_stream', 'data': {'chunk': AIMessageChunk(content='ом', additional_kwargs={}, response_metadata={}, id='run--bb07d08b-2a67-4b6a-b2c4-9ef564e2fdc7')}, 'run_id': 'bb07d08b-2a67-4b6a-b2c4-9ef564e2fdc7', 'name': 'ChatOpenAI', 'tags': ['seq:step:3'], 'metadata': {'ls_provider': 'openai', 'ls_model_name': 'gpt-4o', 'ls_model_type': 'chat', 'ls_temperature': 0.0}, 'parent_ids': ['c9a7c3f7-a69e-462a-b596-ab0df385a3da']}|{'event': 'on_chat_model_stream', 'data': {'chunk': AIMessageChunk(content=' существ', additional_kwargs={}, response_metadata={}, id='run--bb07d08b-2a67-4b6a-b2c4-9ef564e2fdc7')}, 'run_id': 'bb07d08b-2a67-4b6a-b2c4-9ef564e2fdc7', 'name': 'ChatOpenAI', 'tags': ['seq:step:3'], 'metadata': {'ls_provider': 'openai', 'ls_model_name': 'gpt-4o', 'ls_model_type': 'chat', 'ls_temperature': 0.0}, 'parent_ids': ['c9a7c3f7-a69e-462a-b596-ab0df385a3da']}|{'event': 'on_chat_model_stream', 'data': {'chunk': AIMessageChunk(content='ительного', additional_kwargs={}, response_metadata={}, id='run--bb07d08b-2a67-4b6a-b2c4-9ef564e2fdc7')}, 'run_id': 'bb07d08b-2a67-4b6a-b2c4-9ef564e2fdc7', 'name': 'ChatOpenAI', 'tags': ['seq:step:3'], 'metadata': {'ls_provider': 'openai', 'ls_model_name': 'gpt-4o', 'ls_model_type': 'chat', 'ls_temperature': 0.0}, 'parent_ids': ['c9a7c3f7-a69e-462a-b596-ab0df385a3da']}|{'event': 'on_chat_model_stream', 'data': {'chunk': AIMessageChunk(content='.', additional_kwargs={}, response_metadata={}, id='run--bb07d08b-2a67-4b6a-b2c4-9ef564e2fdc7')}, 'run_id': 'bb07d08b-2a67-4b6a-b2c4-9ef564e2fdc7', 'name': 'ChatOpenAI', 'tags': ['seq:step:3'], 'metadata': {'ls_provider': 'openai', 'ls_model_name': 'gpt-4o', 'ls_model_type': 'chat', 'ls_temperature': 0.0}, 'parent_ids': ['c9a7c3f7-a69e-462a-b596-ab0df385a3da']}|{'event': 'on_chat_model_stream', 'data': {'chunk': AIMessageChunk(content='', additional_kwargs={}, response_metadata={'finish_reason': 'stop', 'model_name': 'gpt-4o-2024-08-06', 'system_fingerprint': 'fp_07871e2ad8', 'service_tier': 'default'}, id='run--bb07d08b-2a67-4b6a-b2c4-9ef564e2fdc7')}, 'run_id': 'bb07d08b-2a67-4b6a-b2c4-9ef564e2fdc7', 'name': 'ChatOpenAI', 'tags': ['seq:step:3'], 'metadata': {'ls_provider': 'openai', 'ls_model_name': 'gpt-4o', 'ls_model_type': 'chat', 'ls_temperature': 0.0}, 'parent_ids': ['c9a7c3f7-a69e-462a-b596-ab0df385a3da']}|"
     ]
    }
   ],
   "source": [
    "async for event in llm_chain.astream_events(\"Зачем ставить артикль в немецком языке?\"):\n",
    "    kind = event[\"event\"]\n",
    "    #print(kind)\n",
    "    if kind == \"on_chat_model_stream\":\n",
    "        print(event, end=\"|\", flush=True)"
   ]
  },
  {
   "cell_type": "code",
   "execution_count": 30,
   "metadata": {},
   "outputs": [
    {
     "name": "stdout",
     "output_type": "stream",
     "text": [
      "{'event': 'on_chat_model_stream', 'data': {'chunk': AIMessageChunk(content='', additional_kwargs={}, response_metadata={}, id='run--9c24d542-e423-464b-8284-66a001f0412c')}, 'run_id': '9c24d542-e423-464b-8284-66a001f0412c', 'name': 'ChatOpenAI', 'tags': ['seq:step:2'], 'metadata': {'ls_provider': 'openai', 'ls_model_name': 'gpt-4o', 'ls_model_type': 'chat', 'ls_temperature': 0.0}, 'parent_ids': ['d899c177-9ac0-4348-a6b4-b4e931d87fe9']}|{'event': 'on_chat_model_stream', 'data': {'chunk': AIMessageChunk(content='Sure', additional_kwargs={}, response_metadata={}, id='run--9c24d542-e423-464b-8284-66a001f0412c')}, 'run_id': '9c24d542-e423-464b-8284-66a001f0412c', 'name': 'ChatOpenAI', 'tags': ['seq:step:2'], 'metadata': {'ls_provider': 'openai', 'ls_model_name': 'gpt-4o', 'ls_model_type': 'chat', 'ls_temperature': 0.0}, 'parent_ids': ['d899c177-9ac0-4348-a6b4-b4e931d87fe9']}|{'event': 'on_chat_model_stream', 'data': {'chunk': AIMessageChunk(content=',', additional_kwargs={}, response_metadata={}, id='run--9c24d542-e423-464b-8284-66a001f0412c')}, 'run_id': '9c24d542-e423-464b-8284-66a001f0412c', 'name': 'ChatOpenAI', 'tags': ['seq:step:2'], 'metadata': {'ls_provider': 'openai', 'ls_model_name': 'gpt-4o', 'ls_model_type': 'chat', 'ls_temperature': 0.0}, 'parent_ids': ['d899c177-9ac0-4348-a6b4-b4e931d87fe9']}|{'event': 'on_chat_model_stream', 'data': {'chunk': AIMessageChunk(content=\" here's\", additional_kwargs={}, response_metadata={}, id='run--9c24d542-e423-464b-8284-66a001f0412c')}, 'run_id': '9c24d542-e423-464b-8284-66a001f0412c', 'name': 'ChatOpenAI', 'tags': ['seq:step:2'], 'metadata': {'ls_provider': 'openai', 'ls_model_name': 'gpt-4o', 'ls_model_type': 'chat', 'ls_temperature': 0.0}, 'parent_ids': ['d899c177-9ac0-4348-a6b4-b4e931d87fe9']}|{'event': 'on_chat_model_stream', 'data': {'chunk': AIMessageChunk(content=' a', additional_kwargs={}, response_metadata={}, id='run--9c24d542-e423-464b-8284-66a001f0412c')}, 'run_id': '9c24d542-e423-464b-8284-66a001f0412c', 'name': 'ChatOpenAI', 'tags': ['seq:step:2'], 'metadata': {'ls_provider': 'openai', 'ls_model_name': 'gpt-4o', 'ls_model_type': 'chat', 'ls_temperature': 0.0}, 'parent_ids': ['d899c177-9ac0-4348-a6b4-b4e931d87fe9']}|{'event': 'on_chat_model_stream', 'data': {'chunk': AIMessageChunk(content=' par', additional_kwargs={}, response_metadata={}, id='run--9c24d542-e423-464b-8284-66a001f0412c')}, 'run_id': '9c24d542-e423-464b-8284-66a001f0412c', 'name': 'ChatOpenAI', 'tags': ['seq:step:2'], 'metadata': {'ls_provider': 'openai', 'ls_model_name': 'gpt-4o', 'ls_model_type': 'chat', 'ls_temperature': 0.0}, 'parent_ids': ['d899c177-9ac0-4348-a6b4-b4e931d87fe9']}|{'event': 'on_chat_model_stream', 'data': {'chunk': AIMessageChunk(content='rot', additional_kwargs={}, response_metadata={}, id='run--9c24d542-e423-464b-8284-66a001f0412c')}, 'run_id': '9c24d542-e423-464b-8284-66a001f0412c', 'name': 'ChatOpenAI', 'tags': ['seq:step:2'], 'metadata': {'ls_provider': 'openai', 'ls_model_name': 'gpt-4o', 'ls_model_type': 'chat', 'ls_temperature': 0.0}, 'parent_ids': ['d899c177-9ac0-4348-a6b4-b4e931d87fe9']}|{'event': 'on_chat_model_stream', 'data': {'chunk': AIMessageChunk(content=' joke', additional_kwargs={}, response_metadata={}, id='run--9c24d542-e423-464b-8284-66a001f0412c')}, 'run_id': '9c24d542-e423-464b-8284-66a001f0412c', 'name': 'ChatOpenAI', 'tags': ['seq:step:2'], 'metadata': {'ls_provider': 'openai', 'ls_model_name': 'gpt-4o', 'ls_model_type': 'chat', 'ls_temperature': 0.0}, 'parent_ids': ['d899c177-9ac0-4348-a6b4-b4e931d87fe9']}|{'event': 'on_chat_model_stream', 'data': {'chunk': AIMessageChunk(content=' for', additional_kwargs={}, response_metadata={}, id='run--9c24d542-e423-464b-8284-66a001f0412c')}, 'run_id': '9c24d542-e423-464b-8284-66a001f0412c', 'name': 'ChatOpenAI', 'tags': ['seq:step:2'], 'metadata': {'ls_provider': 'openai', 'ls_model_name': 'gpt-4o', 'ls_model_type': 'chat', 'ls_temperature': 0.0}, 'parent_ids': ['d899c177-9ac0-4348-a6b4-b4e931d87fe9']}|{'event': 'on_chat_model_stream', 'data': {'chunk': AIMessageChunk(content=' you', additional_kwargs={}, response_metadata={}, id='run--9c24d542-e423-464b-8284-66a001f0412c')}, 'run_id': '9c24d542-e423-464b-8284-66a001f0412c', 'name': 'ChatOpenAI', 'tags': ['seq:step:2'], 'metadata': {'ls_provider': 'openai', 'ls_model_name': 'gpt-4o', 'ls_model_type': 'chat', 'ls_temperature': 0.0}, 'parent_ids': ['d899c177-9ac0-4348-a6b4-b4e931d87fe9']}|{'event': 'on_chat_model_stream', 'data': {'chunk': AIMessageChunk(content=':\\n\\n', additional_kwargs={}, response_metadata={}, id='run--9c24d542-e423-464b-8284-66a001f0412c')}, 'run_id': '9c24d542-e423-464b-8284-66a001f0412c', 'name': 'ChatOpenAI', 'tags': ['seq:step:2'], 'metadata': {'ls_provider': 'openai', 'ls_model_name': 'gpt-4o', 'ls_model_type': 'chat', 'ls_temperature': 0.0}, 'parent_ids': ['d899c177-9ac0-4348-a6b4-b4e931d87fe9']}|{'event': 'on_chat_model_stream', 'data': {'chunk': AIMessageChunk(content='Why', additional_kwargs={}, response_metadata={}, id='run--9c24d542-e423-464b-8284-66a001f0412c')}, 'run_id': '9c24d542-e423-464b-8284-66a001f0412c', 'name': 'ChatOpenAI', 'tags': ['seq:step:2'], 'metadata': {'ls_provider': 'openai', 'ls_model_name': 'gpt-4o', 'ls_model_type': 'chat', 'ls_temperature': 0.0}, 'parent_ids': ['d899c177-9ac0-4348-a6b4-b4e931d87fe9']}|{'event': 'on_chat_model_stream', 'data': {'chunk': AIMessageChunk(content=' did', additional_kwargs={}, response_metadata={}, id='run--9c24d542-e423-464b-8284-66a001f0412c')}, 'run_id': '9c24d542-e423-464b-8284-66a001f0412c', 'name': 'ChatOpenAI', 'tags': ['seq:step:2'], 'metadata': {'ls_provider': 'openai', 'ls_model_name': 'gpt-4o', 'ls_model_type': 'chat', 'ls_temperature': 0.0}, 'parent_ids': ['d899c177-9ac0-4348-a6b4-b4e931d87fe9']}|{'event': 'on_chat_model_stream', 'data': {'chunk': AIMessageChunk(content=' the', additional_kwargs={}, response_metadata={}, id='run--9c24d542-e423-464b-8284-66a001f0412c')}, 'run_id': '9c24d542-e423-464b-8284-66a001f0412c', 'name': 'ChatOpenAI', 'tags': ['seq:step:2'], 'metadata': {'ls_provider': 'openai', 'ls_model_name': 'gpt-4o', 'ls_model_type': 'chat', 'ls_temperature': 0.0}, 'parent_ids': ['d899c177-9ac0-4348-a6b4-b4e931d87fe9']}|{'event': 'on_chat_model_stream', 'data': {'chunk': AIMessageChunk(content=' par', additional_kwargs={}, response_metadata={}, id='run--9c24d542-e423-464b-8284-66a001f0412c')}, 'run_id': '9c24d542-e423-464b-8284-66a001f0412c', 'name': 'ChatOpenAI', 'tags': ['seq:step:2'], 'metadata': {'ls_provider': 'openai', 'ls_model_name': 'gpt-4o', 'ls_model_type': 'chat', 'ls_temperature': 0.0}, 'parent_ids': ['d899c177-9ac0-4348-a6b4-b4e931d87fe9']}|{'event': 'on_chat_model_stream', 'data': {'chunk': AIMessageChunk(content='rot', additional_kwargs={}, response_metadata={}, id='run--9c24d542-e423-464b-8284-66a001f0412c')}, 'run_id': '9c24d542-e423-464b-8284-66a001f0412c', 'name': 'ChatOpenAI', 'tags': ['seq:step:2'], 'metadata': {'ls_provider': 'openai', 'ls_model_name': 'gpt-4o', 'ls_model_type': 'chat', 'ls_temperature': 0.0}, 'parent_ids': ['d899c177-9ac0-4348-a6b4-b4e931d87fe9']}|{'event': 'on_chat_model_stream', 'data': {'chunk': AIMessageChunk(content=' get', additional_kwargs={}, response_metadata={}, id='run--9c24d542-e423-464b-8284-66a001f0412c')}, 'run_id': '9c24d542-e423-464b-8284-66a001f0412c', 'name': 'ChatOpenAI', 'tags': ['seq:step:2'], 'metadata': {'ls_provider': 'openai', 'ls_model_name': 'gpt-4o', 'ls_model_type': 'chat', 'ls_temperature': 0.0}, 'parent_ids': ['d899c177-9ac0-4348-a6b4-b4e931d87fe9']}|{'event': 'on_chat_model_stream', 'data': {'chunk': AIMessageChunk(content=' a', additional_kwargs={}, response_metadata={}, id='run--9c24d542-e423-464b-8284-66a001f0412c')}, 'run_id': '9c24d542-e423-464b-8284-66a001f0412c', 'name': 'ChatOpenAI', 'tags': ['seq:step:2'], 'metadata': {'ls_provider': 'openai', 'ls_model_name': 'gpt-4o', 'ls_model_type': 'chat', 'ls_temperature': 0.0}, 'parent_ids': ['d899c177-9ac0-4348-a6b4-b4e931d87fe9']}|{'event': 'on_chat_model_stream', 'data': {'chunk': AIMessageChunk(content=' timeout', additional_kwargs={}, response_metadata={}, id='run--9c24d542-e423-464b-8284-66a001f0412c')}, 'run_id': '9c24d542-e423-464b-8284-66a001f0412c', 'name': 'ChatOpenAI', 'tags': ['seq:step:2'], 'metadata': {'ls_provider': 'openai', 'ls_model_name': 'gpt-4o', 'ls_model_type': 'chat', 'ls_temperature': 0.0}, 'parent_ids': ['d899c177-9ac0-4348-a6b4-b4e931d87fe9']}|{'event': 'on_chat_model_stream', 'data': {'chunk': AIMessageChunk(content='?\\n\\n', additional_kwargs={}, response_metadata={}, id='run--9c24d542-e423-464b-8284-66a001f0412c')}, 'run_id': '9c24d542-e423-464b-8284-66a001f0412c', 'name': 'ChatOpenAI', 'tags': ['seq:step:2'], 'metadata': {'ls_provider': 'openai', 'ls_model_name': 'gpt-4o', 'ls_model_type': 'chat', 'ls_temperature': 0.0}, 'parent_ids': ['d899c177-9ac0-4348-a6b4-b4e931d87fe9']}|{'event': 'on_chat_model_stream', 'data': {'chunk': AIMessageChunk(content='Because', additional_kwargs={}, response_metadata={}, id='run--9c24d542-e423-464b-8284-66a001f0412c')}, 'run_id': '9c24d542-e423-464b-8284-66a001f0412c', 'name': 'ChatOpenAI', 'tags': ['seq:step:2'], 'metadata': {'ls_provider': 'openai', 'ls_model_name': 'gpt-4o', 'ls_model_type': 'chat', 'ls_temperature': 0.0}, 'parent_ids': ['d899c177-9ac0-4348-a6b4-b4e931d87fe9']}|{'event': 'on_chat_model_stream', 'data': {'chunk': AIMessageChunk(content=' it', additional_kwargs={}, response_metadata={}, id='run--9c24d542-e423-464b-8284-66a001f0412c')}, 'run_id': '9c24d542-e423-464b-8284-66a001f0412c', 'name': 'ChatOpenAI', 'tags': ['seq:step:2'], 'metadata': {'ls_provider': 'openai', 'ls_model_name': 'gpt-4o', 'ls_model_type': 'chat', 'ls_temperature': 0.0}, 'parent_ids': ['d899c177-9ac0-4348-a6b4-b4e931d87fe9']}|{'event': 'on_chat_model_stream', 'data': {'chunk': AIMessageChunk(content=' kept', additional_kwargs={}, response_metadata={}, id='run--9c24d542-e423-464b-8284-66a001f0412c')}, 'run_id': '9c24d542-e423-464b-8284-66a001f0412c', 'name': 'ChatOpenAI', 'tags': ['seq:step:2'], 'metadata': {'ls_provider': 'openai', 'ls_model_name': 'gpt-4o', 'ls_model_type': 'chat', 'ls_temperature': 0.0}, 'parent_ids': ['d899c177-9ac0-4348-a6b4-b4e931d87fe9']}|{'event': 'on_chat_model_stream', 'data': {'chunk': AIMessageChunk(content=' repeating', additional_kwargs={}, response_metadata={}, id='run--9c24d542-e423-464b-8284-66a001f0412c')}, 'run_id': '9c24d542-e423-464b-8284-66a001f0412c', 'name': 'ChatOpenAI', 'tags': ['seq:step:2'], 'metadata': {'ls_provider': 'openai', 'ls_model_name': 'gpt-4o', 'ls_model_type': 'chat', 'ls_temperature': 0.0}, 'parent_ids': ['d899c177-9ac0-4348-a6b4-b4e931d87fe9']}|{'event': 'on_chat_model_stream', 'data': {'chunk': AIMessageChunk(content=' everything', additional_kwargs={}, response_metadata={}, id='run--9c24d542-e423-464b-8284-66a001f0412c')}, 'run_id': '9c24d542-e423-464b-8284-66a001f0412c', 'name': 'ChatOpenAI', 'tags': ['seq:step:2'], 'metadata': {'ls_provider': 'openai', 'ls_model_name': 'gpt-4o', 'ls_model_type': 'chat', 'ls_temperature': 0.0}, 'parent_ids': ['d899c177-9ac0-4348-a6b4-b4e931d87fe9']}|{'event': 'on_chat_model_stream', 'data': {'chunk': AIMessageChunk(content=' it', additional_kwargs={}, response_metadata={}, id='run--9c24d542-e423-464b-8284-66a001f0412c')}, 'run_id': '9c24d542-e423-464b-8284-66a001f0412c', 'name': 'ChatOpenAI', 'tags': ['seq:step:2'], 'metadata': {'ls_provider': 'openai', 'ls_model_name': 'gpt-4o', 'ls_model_type': 'chat', 'ls_temperature': 0.0}, 'parent_ids': ['d899c177-9ac0-4348-a6b4-b4e931d87fe9']}|{'event': 'on_chat_model_stream', 'data': {'chunk': AIMessageChunk(content=' heard', additional_kwargs={}, response_metadata={}, id='run--9c24d542-e423-464b-8284-66a001f0412c')}, 'run_id': '9c24d542-e423-464b-8284-66a001f0412c', 'name': 'ChatOpenAI', 'tags': ['seq:step:2'], 'metadata': {'ls_provider': 'openai', 'ls_model_name': 'gpt-4o', 'ls_model_type': 'chat', 'ls_temperature': 0.0}, 'parent_ids': ['d899c177-9ac0-4348-a6b4-b4e931d87fe9']}|{'event': 'on_chat_model_stream', 'data': {'chunk': AIMessageChunk(content=',', additional_kwargs={}, response_metadata={}, id='run--9c24d542-e423-464b-8284-66a001f0412c')}, 'run_id': '9c24d542-e423-464b-8284-66a001f0412c', 'name': 'ChatOpenAI', 'tags': ['seq:step:2'], 'metadata': {'ls_provider': 'openai', 'ls_model_name': 'gpt-4o', 'ls_model_type': 'chat', 'ls_temperature': 0.0}, 'parent_ids': ['d899c177-9ac0-4348-a6b4-b4e931d87fe9']}|{'event': 'on_chat_model_stream', 'data': {'chunk': AIMessageChunk(content=' including', additional_kwargs={}, response_metadata={}, id='run--9c24d542-e423-464b-8284-66a001f0412c')}, 'run_id': '9c24d542-e423-464b-8284-66a001f0412c', 'name': 'ChatOpenAI', 'tags': ['seq:step:2'], 'metadata': {'ls_provider': 'openai', 'ls_model_name': 'gpt-4o', 'ls_model_type': 'chat', 'ls_temperature': 0.0}, 'parent_ids': ['d899c177-9ac0-4348-a6b4-b4e931d87fe9']}|{'event': 'on_chat_model_stream', 'data': {'chunk': AIMessageChunk(content=' the', additional_kwargs={}, response_metadata={}, id='run--9c24d542-e423-464b-8284-66a001f0412c')}, 'run_id': '9c24d542-e423-464b-8284-66a001f0412c', 'name': 'ChatOpenAI', 'tags': ['seq:step:2'], 'metadata': {'ls_provider': 'openai', 'ls_model_name': 'gpt-4o', 'ls_model_type': 'chat', 'ls_temperature': 0.0}, 'parent_ids': ['d899c177-9ac0-4348-a6b4-b4e931d87fe9']}|{'event': 'on_chat_model_stream', 'data': {'chunk': AIMessageChunk(content=' bad', additional_kwargs={}, response_metadata={}, id='run--9c24d542-e423-464b-8284-66a001f0412c')}, 'run_id': '9c24d542-e423-464b-8284-66a001f0412c', 'name': 'ChatOpenAI', 'tags': ['seq:step:2'], 'metadata': {'ls_provider': 'openai', 'ls_model_name': 'gpt-4o', 'ls_model_type': 'chat', 'ls_temperature': 0.0}, 'parent_ids': ['d899c177-9ac0-4348-a6b4-b4e931d87fe9']}|{'event': 'on_chat_model_stream', 'data': {'chunk': AIMessageChunk(content=' words', additional_kwargs={}, response_metadata={}, id='run--9c24d542-e423-464b-8284-66a001f0412c')}, 'run_id': '9c24d542-e423-464b-8284-66a001f0412c', 'name': 'ChatOpenAI', 'tags': ['seq:step:2'], 'metadata': {'ls_provider': 'openai', 'ls_model_name': 'gpt-4o', 'ls_model_type': 'chat', 'ls_temperature': 0.0}, 'parent_ids': ['d899c177-9ac0-4348-a6b4-b4e931d87fe9']}|{'event': 'on_chat_model_stream', 'data': {'chunk': AIMessageChunk(content='!', additional_kwargs={}, response_metadata={}, id='run--9c24d542-e423-464b-8284-66a001f0412c')}, 'run_id': '9c24d542-e423-464b-8284-66a001f0412c', 'name': 'ChatOpenAI', 'tags': ['seq:step:2'], 'metadata': {'ls_provider': 'openai', 'ls_model_name': 'gpt-4o', 'ls_model_type': 'chat', 'ls_temperature': 0.0}, 'parent_ids': ['d899c177-9ac0-4348-a6b4-b4e931d87fe9']}|{'event': 'on_chat_model_stream', 'data': {'chunk': AIMessageChunk(content='', additional_kwargs={}, response_metadata={'finish_reason': 'stop', 'model_name': 'gpt-4o-2024-08-06', 'system_fingerprint': 'fp_a288987b44', 'service_tier': 'default'}, id='run--9c24d542-e423-464b-8284-66a001f0412c')}, 'run_id': '9c24d542-e423-464b-8284-66a001f0412c', 'name': 'ChatOpenAI', 'tags': ['seq:step:2'], 'metadata': {'ls_provider': 'openai', 'ls_model_name': 'gpt-4o', 'ls_model_type': 'chat', 'ls_temperature': 0.0}, 'parent_ids': ['d899c177-9ac0-4348-a6b4-b4e931d87fe9']}|"
     ]
    }
   ],
   "source": [
    "prompt = ChatPromptTemplate.from_template(\"tell me a joke about {topic}\")\n",
    "parser = StrOutputParser()\n",
    "chain = prompt | llm | parser\n",
    "\n",
    "async for event in chain.astream_events({\"topic\": \"parrot\"}):\n",
    "    kind = event[\"event\"]\n",
    "    if kind == \"on_chat_model_stream\":\n",
    "        print(event, end=\"|\", flush=True)"
   ]
  },
  {
   "cell_type": "code",
   "execution_count": 31,
   "metadata": {},
   "outputs": [],
   "source": [
    "def output_structure(x):\n",
    "    return parser.get_format_instructions()"
   ]
  },
  {
   "cell_type": "code",
   "execution_count": 32,
   "metadata": {},
   "outputs": [],
   "source": [
    "class Answer(BaseModel):\n",
    "    answer: str = Field(description=\"Answer to the question\")\n",
    "    references: List[str] = Field(description=\"List of references to the answer\")\n",
    "\n",
    "parser = PydanticOutputParser(pydantic_object=Answer)\n",
    "parser = OutputFixingParser.from_llm(parser=parser, llm=llm)\n",
    "\n",
    "prompt = ChatPromptTemplate.from_template(\n",
    "    \"\"\"Answer the question based only on the context provided.\n",
    "\n",
    "    Context: {context}\n",
    "\n",
    "    Question: {question}\n",
    "\n",
    "Structure of an answer: {instructions}\n",
    "\n",
    "\"\"\"\n",
    "    )\n",
    "\n",
    "llm_chain = (\n",
    "        {\"context\": traversal_retriever | format_docs, \"question\": RunnablePassthrough(), \"instructions\": output_structure}\n",
    "        | prompt\n",
    "        | llm\n",
    "        | parser\n",
    "    )\n",
    "\n"
   ]
  },
  {
   "cell_type": "code",
   "execution_count": 33,
   "metadata": {},
   "outputs": [
    {
     "data": {
      "text/plain": [
       "'The output should be formatted as a JSON instance that conforms to the JSON schema below.\\n\\nAs an example, for the schema {\"properties\": {\"foo\": {\"title\": \"Foo\", \"description\": \"a list of strings\", \"type\": \"array\", \"items\": {\"type\": \"string\"}}}, \"required\": [\"foo\"]}\\nthe object {\"foo\": [\"bar\", \"baz\"]} is a well-formatted instance of the schema. The object {\"properties\": {\"foo\": [\"bar\", \"baz\"]}} is not well-formatted.\\n\\nHere is the output schema:\\n```\\n{\"properties\": {\"answer\": {\"description\": \"Answer to the question\", \"title\": \"Answer\", \"type\": \"string\"}, \"references\": {\"description\": \"List of references to the answer\", \"items\": {\"type\": \"string\"}, \"title\": \"References\", \"type\": \"array\"}}, \"required\": [\"answer\", \"references\"]}\\n```'"
      ]
     },
     "execution_count": 33,
     "metadata": {},
     "output_type": "execute_result"
    }
   ],
   "source": [
    "parser.get_format_instructions()"
   ]
  },
  {
   "cell_type": "code",
   "execution_count": 34,
   "metadata": {},
   "outputs": [
    {
     "data": {
      "text/html": [
       "<div>\n",
       "<style scoped>\n",
       "    .dataframe tbody tr th:only-of-type {\n",
       "        vertical-align: middle;\n",
       "    }\n",
       "\n",
       "    .dataframe tbody tr th {\n",
       "        vertical-align: top;\n",
       "    }\n",
       "\n",
       "    .dataframe thead th {\n",
       "        text-align: right;\n",
       "    }\n",
       "</style>\n",
       "<table border=\"1\" class=\"dataframe\">\n",
       "  <thead>\n",
       "    <tr style=\"text-align: right;\">\n",
       "      <th></th>\n",
       "      <th>answer</th>\n",
       "      <th>references</th>\n",
       "    </tr>\n",
       "  </thead>\n",
       "  <tbody>\n",
       "    <tr>\n",
       "      <th>0</th>\n",
       "      <td>answer</td>\n",
       "      <td>references</td>\n",
       "    </tr>\n",
       "    <tr>\n",
       "      <th>1</th>\n",
       "      <td>The context provided does not contain informat...</td>\n",
       "      <td>[]</td>\n",
       "    </tr>\n",
       "  </tbody>\n",
       "</table>\n",
       "</div>"
      ],
      "text/plain": [
       "0                                             answer  references\n",
       "0                                             answer  references\n",
       "1  The context provided does not contain informat...          []"
      ]
     },
     "execution_count": 34,
     "metadata": {},
     "output_type": "execute_result"
    }
   ],
   "source": [
    "df = pd.DataFrame(llm_chain.invoke(\"Как класть тротуарную плитку?\")).T\n",
    "df.columns = df.iloc[0]\n",
    "df"
   ]
  },
  {
   "cell_type": "code",
   "execution_count": 35,
   "metadata": {},
   "outputs": [],
   "source": [
    "df.to_csv(\"answer.csv\")"
   ]
  },
  {
   "cell_type": "markdown",
   "metadata": {},
   "source": []
  },
  {
   "cell_type": "code",
   "execution_count": 36,
   "metadata": {},
   "outputs": [
    {
     "data": {
      "text/plain": [
       "0\n",
       "answer            answer\n",
       "references    references\n",
       "Name: 0, dtype: object"
      ]
     },
     "execution_count": 36,
     "metadata": {},
     "output_type": "execute_result"
    }
   ],
   "source": [
    "df.iloc[0]"
   ]
  },
  {
   "cell_type": "code",
   "execution_count": null,
   "metadata": {},
   "outputs": [],
   "source": []
  }
 ],
 "metadata": {
  "kernelspec": {
   "display_name": "langchain",
   "language": "python",
   "name": "python3"
  },
  "language_info": {
   "codemirror_mode": {
    "name": "ipython",
    "version": 3
   },
   "file_extension": ".py",
   "mimetype": "text/x-python",
   "name": "python",
   "nbconvert_exporter": "python",
   "pygments_lexer": "ipython3",
   "version": "3.12.11"
  }
 },
 "nbformat": 4,
 "nbformat_minor": 2
}
