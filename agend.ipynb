{
 "cells": [
  {
   "cell_type": "code",
   "execution_count": 37,
   "metadata": {},
   "outputs": [
    {
     "data": {
      "text/plain": [
       "True"
      ]
     },
     "execution_count": 37,
     "metadata": {},
     "output_type": "execute_result"
    }
   ],
   "source": [
    "from langgraph.prebuilt import create_react_agent\n",
    "from langchain_tavily import TavilySearch\n",
    "from dotenv import load_dotenv\n",
    "load_dotenv()"
   ]
  },
  {
   "cell_type": "code",
   "execution_count": 39,
   "metadata": {},
   "outputs": [],
   "source": [
    "search = TavilySearch(max_results=5)"
   ]
  },
  {
   "cell_type": "code",
   "execution_count": null,
   "metadata": {},
   "outputs": [
    {
     "name": "stdout",
     "output_type": "stream",
     "text": [
      "{'query': 'What is the weather in Berlin', 'follow_up_questions': None, 'answer': None, 'images': [], 'results': [{'title': 'Weather in Berlin', 'url': 'https://www.weatherapi.com/', 'content': \"{'location': {'name': 'Berlin', 'region': 'Berlin', 'country': 'Germany', 'lat': 52.5167, 'lon': 13.4, 'tz_id': 'Europe/Berlin', 'localtime_epoch': 1751406917, 'localtime': '2025-07-01 23:55'}, 'current': {'last_updated_epoch': 1751406300, 'last_updated': '2025-07-01 23:45', 'temp_c': 22.3, 'temp_f': 72.1, 'is_day': 0, 'condition': {'text': 'Clear', 'icon': '//cdn.weatherapi.com/weather/64x64/night/113.png', 'code': 1000}, 'wind_mph': 7.2, 'wind_kph': 11.5, 'wind_degree': 120, 'wind_dir': 'ESE', 'pressure_mb': 1017.0, 'pressure_in': 30.03, 'precip_mm': 0.0, 'precip_in': 0.0, 'humidity': 46, 'cloud': 0, 'feelslike_c': 24.0, 'feelslike_f': 75.2, 'windchill_c': 23.3, 'windchill_f': 73.9, 'heatindex_c': 24.4, 'heatindex_f': 75.8, 'dewpoint_c': 8.3, 'dewpoint_f': 46.9, 'vis_km': 10.0, 'vis_miles': 6.0, 'uv': 0.0, 'gust_mph': 15.0, 'gust_kph': 24.2}}\", 'score': 0.9382249, 'raw_content': None}, {'title': 'Wetterbericht für Berlin/Brandenburg (01.07.2025) - city-news.de', 'url': 'https://www.city-news.de/wetterbericht-fuer-berlin-brandenburg-01-07-2025/207078/', 'content': 'In Berlin und Brandenburg erwartet die Menschen heute sonniges und trockenes Sommerwetter bei hohen Temperaturen. Es bleibt wolkenlos, und die Temperaturen steigen auf 30 bis 34 Grad. In der Nacht klart der Himmel weiter auf, und die Temperaturen sinken auf 19 bis 14 Grad. In der Nacht zum übernächsten Tag kann es in der Prignitz erste Schauer und Gewitter geben, während es sonst bei 22 bis 18 Grad leicht bewölkt bleibt. Am übernächsten Tag ändert sich das Wetter deutlich: Es ziehen Wolken auf, und regional sind Schauer und Gewitter möglich, die teilweise kräftig ausfallen können. Sie können Ihre Einwilligung zu ganzen Kategorien geben oder sich weitere Informationen anzeigen lassen und so nur bestimmte Cookies auswählen.', 'score': 0.9314689, 'raw_content': None}, {'title': 'Weather in Berlin in January 2025', 'url': 'https://world-weather.info/forecast/germany/berlin/january-2025/', 'content': 'Detailed ⚡ Berlin Weather Forecast for January 2025 - day/night 🌡️ temperatures, precipitations - World-Weather.info', 'score': 0.76300776, 'raw_content': None}, {'title': 'Berlin 2025 Past Weather (Berlin, Germany) - Weather Spark', 'url': 'https://weatherspark.com/h/y/75981/2025/Historical-Weather-during-2025-in-Berlin-Germany', 'content': 'ADVERTISEMENT ### Hourly Temperature in 2025 in Berlin Link Download Compare Averages History:202520242023202220212020201920182017 _frigid_ _15°F_ _freezing_ _32°F_ _very cold_ _45°F_ _cold_ _55°F_ _cool_ _65°F_ _comfortable_ _75°F_ _warm_ _85°F_ _hot_ _95°F_ _sweltering_ The hourly reported temperature, color coded into bands. ### Hourly Wind Direction in 2025 in Berlin Link Download Compare Averages History:202520242023202220212020201920182017 _calm_ _north_ _east_ _south_ _west_ The hourly reported wind direction, color coded by compass point. Please review our full terms contained on our Terms of Service page.Image 5 #### Berlin Berlin, Germany Image 6: Map Image 7: Marker © OpenStreetMap contributors Today Yesterday Jun 2025    19401950196019701990200020102020    2016201720182019202020212022202320242025    SpringSummerFall Winter JanFebMarAprMayJunJul Aug Sep Oct Nov Dec Currently Temperature Clouds Precipitation Observed Weather Sun Moon Humidity Wind Wind Direction Pressure Inventory Data Sources    Hide Ads Data Download License Charts', 'score': 0.7128128, 'raw_content': None}, {'title': 'Weather in January 2025 in Berlin, Germany - timeanddate.com', 'url': 'https://www.timeanddate.com/weather/germany/berlin/historic?month=1&year=2025', 'content': 'Weather reports from January 2025 in Berlin, Germany with highs and lows', 'score': 0.6612456, 'raw_content': None}], 'response_time': 2.45}\n"
     ]
    }
   ],
   "source": [
    "\n",
    "search_results = search.invoke(\"What is the weather in Berlin\")\n",
    "print(search_results)"
   ]
  },
  {
   "cell_type": "code",
   "execution_count": 17,
   "metadata": {},
   "outputs": [],
   "source": [
    "tools = [search]\n",
    "\n",
    "from langchain.chat_models import init_chat_model\n",
    "\n",
    "model = init_chat_model(\"gpt-4o\", model_provider=\"openai\")"
   ]
  },
  {
   "cell_type": "code",
   "execution_count": 18,
   "metadata": {},
   "outputs": [
    {
     "data": {
      "text/plain": [
       "'Hello! How can I assist you today?'"
      ]
     },
     "execution_count": 18,
     "metadata": {},
     "output_type": "execute_result"
    }
   ],
   "source": [
    "query = \"Hi!\"\n",
    "response = model.invoke([{\"role\": \"user\", \"content\": query}])\n",
    "response.text()"
   ]
  },
  {
   "cell_type": "code",
   "execution_count": 21,
   "metadata": {},
   "outputs": [],
   "source": [
    "model_with_tools = model.bind_tools(tools)"
   ]
  },
  {
   "cell_type": "code",
   "execution_count": 22,
   "metadata": {},
   "outputs": [
    {
     "name": "stdout",
     "output_type": "stream",
     "text": [
      "Message content: Hello! How can I assist you today?\n",
      "\n",
      "Tool calls: []\n"
     ]
    }
   ],
   "source": [
    "query = \"Hi!\"\n",
    "response = model_with_tools.invoke([{\"role\": \"user\", \"content\": query}])\n",
    "\n",
    "print(f\"Message content: {response.text()}\\n\")\n",
    "print(f\"Tool calls: {response.tool_calls}\")"
   ]
  },
  {
   "cell_type": "code",
   "execution_count": 27,
   "metadata": {},
   "outputs": [
    {
     "name": "stdout",
     "output_type": "stream",
     "text": [
      "Message content: \n",
      "\n",
      "Tool calls: [{'name': 'tavily_search', 'args': {'query': 'weather in Berlin'}, 'id': 'call_qush0UNfy5msZAiq7oIXB5B6', 'type': 'tool_call'}]\n"
     ]
    }
   ],
   "source": [
    "query = \"Search for the weather in Berlin\"\n",
    "response = model_with_tools.invoke([{\"role\": \"user\", \"content\": query}])\n",
    "\n",
    "print(f\"Message content: {response.text()}\\n\")\n",
    "print(f\"Tool calls: {response.tool_calls}\")"
   ]
  },
  {
   "cell_type": "code",
   "execution_count": 40,
   "metadata": {},
   "outputs": [],
   "source": [
    "agent_executor = create_react_agent(model, tools)"
   ]
  },
  {
   "cell_type": "code",
   "execution_count": 32,
   "metadata": {},
   "outputs": [
    {
     "name": "stdout",
     "output_type": "stream",
     "text": [
      "================================\u001b[1m Human Message \u001b[0m=================================\n",
      "\n",
      "Hi!\n",
      "==================================\u001b[1m Ai Message \u001b[0m==================================\n",
      "\n",
      "Hello! How can I assist you today?\n"
     ]
    }
   ],
   "source": [
    "input_message = {\"role\": \"user\", \"content\": \"Hi!\"}\n",
    "response = agent_executor.invoke({\"messages\": [input_message]})\n",
    "\n",
    "for message in response[\"messages\"]:\n",
    "    message.pretty_print()"
   ]
  },
  {
   "cell_type": "code",
   "execution_count": 43,
   "metadata": {},
   "outputs": [
    {
     "name": "stdout",
     "output_type": "stream",
     "text": [
      "================================\u001b[1m System Message \u001b[0m================================\n",
      "\n",
      "Before providing the answer of the users question, please check that users query is fully and accurately answered if not then repeat until it is\n",
      "================================\u001b[1m Human Message \u001b[0m=================================\n",
      "\n",
      "What is the actual currency rate for the euro to the dollar?\n",
      "==================================\u001b[1m Ai Message \u001b[0m==================================\n",
      "Tool Calls:\n",
      "  tavily_search (call_tmjhmV8pedrWuvbVCiyZ0FwP)\n",
      " Call ID: call_tmjhmV8pedrWuvbVCiyZ0FwP\n",
      "  Args:\n",
      "    query: current EUR to USD exchange rate\n",
      "    search_depth: basic\n",
      "=================================\u001b[1m Tool Message \u001b[0m=================================\n",
      "Name: tavily_search\n",
      "\n",
      "{\"query\": \"current EUR to USD exchange rate\", \"follow_up_questions\": null, \"answer\": null, \"images\": [], \"results\": [{\"title\": \"Live Euro to US Dollar Exchange Rate - € 1 EUR/USD Today\", \"url\": \"https://eur.currencyrate.today/usd\", \"content\": \"Get the latest and best €1 Euro to US Dollar rate for FREE. EUR/USD - Live exchange rates, banks, historical data & currency charts.\", \"score\": 0.7533401, \"raw_content\": null}, {\"title\": \"1 EUR to USD - Euros to US Dollars Exchange Rate - Xe\", \"url\": \"https://www.xe.com/en-gb/currencyconverter/convert/?Amount=1&From=EUR&To=USD\", \"content\": \"Get the latest 1 Euro to US Dollar rate for FREE with the original Universal Currency Converter. Set rate alerts for to and learn more about Euros and US Dollars from XE - the Currency Authority.\", \"score\": 0.61668247, \"raw_content\": null}], \"response_time\": 1.51}\n",
      "==================================\u001b[1m Ai Message \u001b[0m==================================\n",
      "\n",
      "To find the current Euro to US Dollar (EUR/USD) exchange rate, you can check live updates from trusted currency conversion websites like [eur.currencyrate.today](https://eur.currencyrate.today/usd) or [Xe Currency Converter](https://www.xe.com/en-gb/currencyconverter/convert/?Amount=1&From=EUR&To=USD). These sources provide up-to-date exchange rates and historical data.\n"
     ]
    }
   ],
   "source": [
    "system_massage = {\"role\": \"system\", \"content\": \"Before providing the answer of the users question, please check that users query is fully and accurately answered if not then repeat until it is\"}\n",
    "input_message = {\"role\": \"user\", \"content\": \"What is the actual currency rate for the euro to the dollar?\"}\n",
    "response = agent_executor.invoke({\"messages\": [system_massage, input_message]})\n",
    "\n",
    "for message in response[\"messages\"]:\n",
    "    message.pretty_print()"
   ]
  },
  {
   "cell_type": "code",
   "execution_count": 45,
   "metadata": {},
   "outputs": [
    {
     "name": "stdout",
     "output_type": "stream",
     "text": [
      "================================\u001b[1m Human Message \u001b[0m=================================\n",
      "\n",
      "What is the actual currency rate for the euro to the dollar?\n",
      "==================================\u001b[1m Ai Message \u001b[0m==================================\n",
      "Tool Calls:\n",
      "  tavily_search (call_qilvZt7rNlW6PerLXqyD8fha)\n",
      " Call ID: call_qilvZt7rNlW6PerLXqyD8fha\n",
      "  Args:\n",
      "    query: current EUR to USD exchange rate\n",
      "    topic: finance\n",
      "=================================\u001b[1m Tool Message \u001b[0m=================================\n",
      "Name: tavily_search\n",
      "\n",
      "{\"query\": \"current EUR to USD exchange rate\", \"follow_up_questions\": null, \"answer\": null, \"images\": [], \"results\": [{\"title\": \"EUR to USD Exchange Rate - The Wall Street Journal\", \"url\": \"https://www.wsj.com/market-data/quotes/fx/EURUSD\", \"content\": \"Current exchange rate for EUR to USD.Open 1.1788 Prior Close 1.1789 (06/30/25) 1 Day EURUSD -0.04% USDJPY -0.25% BUXX -0.04%\", \"score\": 0.902687, \"raw_content\": null}, {\"title\": \"EUR/USD (EUR-USD.F) live rate, chart and news - Yahoo Finance\", \"url\": \"https://uk.finance.yahoo.com/quote/EUR-USD.F/\", \"content\": \"Find the latest EUR/USD (EUR-USD.F) currency exchange rates, plus historical data, charts, relevant news and more\", \"score\": 0.6580885, \"raw_content\": null}], \"response_time\": 2.36}\n",
      "==================================\u001b[1m Ai Message \u001b[0m==================================\n",
      "\n",
      "The current EUR to USD exchange rate can be found on websites like [The Wall Street Journal](https://www.wsj.com/market-data/quotes/fx/EURUSD) and [Yahoo Finance](https://uk.finance.yahoo.com/quote/EUR-USD.F/). You can check these sources for the most up-to-date rates.\n"
     ]
    }
   ],
   "source": [
    "for step in agent_executor.stream({\"messages\": [input_message]}, stream_mode=\"values\"):\n",
    "    step[\"messages\"][-1].pretty_print()"
   ]
  },
  {
   "cell_type": "code",
   "execution_count": null,
   "metadata": {},
   "outputs": [],
   "source": []
  }
 ],
 "metadata": {
  "kernelspec": {
   "display_name": "langchain",
   "language": "python",
   "name": "python3"
  },
  "language_info": {
   "codemirror_mode": {
    "name": "ipython",
    "version": 3
   },
   "file_extension": ".py",
   "mimetype": "text/x-python",
   "name": "python",
   "nbconvert_exporter": "python",
   "pygments_lexer": "ipython3",
   "version": "3.12.11"
  }
 },
 "nbformat": 4,
 "nbformat_minor": 2
}
